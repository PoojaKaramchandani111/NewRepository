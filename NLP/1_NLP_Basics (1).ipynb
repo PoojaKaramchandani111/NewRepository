{
  "nbformat": 4,
  "nbformat_minor": 0,
  "metadata": {
    "colab": {
      "name": "1.NLP Basics.ipynb",
      "provenance": [],
      "collapsed_sections": []
    },
    "kernelspec": {
      "name": "python3",
      "display_name": "Python 3"
    },
    "language_info": {
      "name": "python"
    }
  },
  "cells": [
    {
      "cell_type": "code",
      "execution_count": 1,
      "metadata": {
        "id": "h2VHYAaDbgs_"
      },
      "outputs": [],
      "source": [
        "# NLP Operations in Python\n",
        "# Two packages:\n",
        "# 1. NLTK (Natural Language Processing Toolkit)\n",
        "# 2. Spacy"
      ]
    },
    {
      "cell_type": "code",
      "source": [
        "# spacy Basics"
      ],
      "metadata": {
        "id": "0brT1UiRb665"
      },
      "execution_count": 2,
      "outputs": []
    },
    {
      "cell_type": "code",
      "source": [
        "#If spacy is not installed --------> Anaconda Prompt --------> pip install spacy\n",
        "# -or-\n",
        "#  conda install -c conda-forge spacy"
      ],
      "metadata": {
        "id": "366ehcS3cviq"
      },
      "execution_count": 3,
      "outputs": []
    },
    {
      "cell_type": "code",
      "source": [
        "import spacy"
      ],
      "metadata": {
        "id": "ACQH8hcbdUG0"
      },
      "execution_count": 4,
      "outputs": []
    },
    {
      "cell_type": "code",
      "source": [
        "# Download Language Model (Mandatory Step !)\n",
        "# https://spacy.io/models\n",
        "#Doc for English Model: https://spacy.io/models/en"
      ],
      "metadata": {
        "id": "BC2allDSdVk1"
      },
      "execution_count": 5,
      "outputs": []
    },
    {
      "cell_type": "code",
      "source": [
        "# To download the english core model (small)\n",
        "! python3 -m spacy download en_core_web_sm"
      ],
      "metadata": {
        "colab": {
          "base_uri": "https://localhost:8080/"
        },
        "id": "Rrtrgz2Wejjf",
        "outputId": "c8e02edf-b21c-4b9c-ed3d-12535374d080"
      },
      "execution_count": 6,
      "outputs": [
        {
          "output_type": "stream",
          "name": "stdout",
          "text": [
            "Collecting en_core_web_sm==2.2.5\n",
            "  Downloading https://github.com/explosion/spacy-models/releases/download/en_core_web_sm-2.2.5/en_core_web_sm-2.2.5.tar.gz (12.0 MB)\n",
            "\u001b[K     |████████████████████████████████| 12.0 MB 7.7 MB/s \n",
            "\u001b[?25hRequirement already satisfied: spacy>=2.2.2 in /usr/local/lib/python3.7/dist-packages (from en_core_web_sm==2.2.5) (2.2.4)\n",
            "Requirement already satisfied: tqdm<5.0.0,>=4.38.0 in /usr/local/lib/python3.7/dist-packages (from spacy>=2.2.2->en_core_web_sm==2.2.5) (4.62.3)\n",
            "Requirement already satisfied: catalogue<1.1.0,>=0.0.7 in /usr/local/lib/python3.7/dist-packages (from spacy>=2.2.2->en_core_web_sm==2.2.5) (1.0.0)\n",
            "Requirement already satisfied: murmurhash<1.1.0,>=0.28.0 in /usr/local/lib/python3.7/dist-packages (from spacy>=2.2.2->en_core_web_sm==2.2.5) (1.0.6)\n",
            "Requirement already satisfied: srsly<1.1.0,>=1.0.2 in /usr/local/lib/python3.7/dist-packages (from spacy>=2.2.2->en_core_web_sm==2.2.5) (1.0.5)\n",
            "Requirement already satisfied: plac<1.2.0,>=0.9.6 in /usr/local/lib/python3.7/dist-packages (from spacy>=2.2.2->en_core_web_sm==2.2.5) (1.1.3)\n",
            "Requirement already satisfied: numpy>=1.15.0 in /usr/local/lib/python3.7/dist-packages (from spacy>=2.2.2->en_core_web_sm==2.2.5) (1.19.5)\n",
            "Requirement already satisfied: blis<0.5.0,>=0.4.0 in /usr/local/lib/python3.7/dist-packages (from spacy>=2.2.2->en_core_web_sm==2.2.5) (0.4.1)\n",
            "Requirement already satisfied: thinc==7.4.0 in /usr/local/lib/python3.7/dist-packages (from spacy>=2.2.2->en_core_web_sm==2.2.5) (7.4.0)\n",
            "Requirement already satisfied: wasabi<1.1.0,>=0.4.0 in /usr/local/lib/python3.7/dist-packages (from spacy>=2.2.2->en_core_web_sm==2.2.5) (0.9.0)\n",
            "Requirement already satisfied: preshed<3.1.0,>=3.0.2 in /usr/local/lib/python3.7/dist-packages (from spacy>=2.2.2->en_core_web_sm==2.2.5) (3.0.6)\n",
            "Requirement already satisfied: requests<3.0.0,>=2.13.0 in /usr/local/lib/python3.7/dist-packages (from spacy>=2.2.2->en_core_web_sm==2.2.5) (2.23.0)\n",
            "Requirement already satisfied: setuptools in /usr/local/lib/python3.7/dist-packages (from spacy>=2.2.2->en_core_web_sm==2.2.5) (57.4.0)\n",
            "Requirement already satisfied: cymem<2.1.0,>=2.0.2 in /usr/local/lib/python3.7/dist-packages (from spacy>=2.2.2->en_core_web_sm==2.2.5) (2.0.6)\n",
            "Requirement already satisfied: importlib-metadata>=0.20 in /usr/local/lib/python3.7/dist-packages (from catalogue<1.1.0,>=0.0.7->spacy>=2.2.2->en_core_web_sm==2.2.5) (4.10.1)\n",
            "Requirement already satisfied: zipp>=0.5 in /usr/local/lib/python3.7/dist-packages (from importlib-metadata>=0.20->catalogue<1.1.0,>=0.0.7->spacy>=2.2.2->en_core_web_sm==2.2.5) (3.7.0)\n",
            "Requirement already satisfied: typing-extensions>=3.6.4 in /usr/local/lib/python3.7/dist-packages (from importlib-metadata>=0.20->catalogue<1.1.0,>=0.0.7->spacy>=2.2.2->en_core_web_sm==2.2.5) (3.10.0.2)\n",
            "Requirement already satisfied: certifi>=2017.4.17 in /usr/local/lib/python3.7/dist-packages (from requests<3.0.0,>=2.13.0->spacy>=2.2.2->en_core_web_sm==2.2.5) (2021.10.8)\n",
            "Requirement already satisfied: urllib3!=1.25.0,!=1.25.1,<1.26,>=1.21.1 in /usr/local/lib/python3.7/dist-packages (from requests<3.0.0,>=2.13.0->spacy>=2.2.2->en_core_web_sm==2.2.5) (1.24.3)\n",
            "Requirement already satisfied: idna<3,>=2.5 in /usr/local/lib/python3.7/dist-packages (from requests<3.0.0,>=2.13.0->spacy>=2.2.2->en_core_web_sm==2.2.5) (2.10)\n",
            "Requirement already satisfied: chardet<4,>=3.0.2 in /usr/local/lib/python3.7/dist-packages (from requests<3.0.0,>=2.13.0->spacy>=2.2.2->en_core_web_sm==2.2.5) (3.0.4)\n",
            "\u001b[38;5;2m✔ Download and installation successful\u001b[0m\n",
            "You can now load the model via spacy.load('en_core_web_sm')\n"
          ]
        }
      ]
    },
    {
      "cell_type": "code",
      "source": [
        "# Quick Check if Spacy is working "
      ],
      "metadata": {
        "id": "R57_oUJQesN6"
      },
      "execution_count": 7,
      "outputs": []
    },
    {
      "cell_type": "code",
      "source": [
        "import spacy"
      ],
      "metadata": {
        "id": "hXFbFIDye8IU"
      },
      "execution_count": 8,
      "outputs": []
    },
    {
      "cell_type": "code",
      "source": [
        "model = spacy.load('en_core_web_sm')"
      ],
      "metadata": {
        "id": "yh3pZk44e-ZY"
      },
      "execution_count": 9,
      "outputs": []
    },
    {
      "cell_type": "code",
      "source": [
        "textExample = u\"Tesla is looking at buying U.S. startups for $6 million\"\n",
        "#POS Tagging Demo\n",
        "\n",
        "# All the string data that needs to be loaded in spacy model object \n",
        "# must follow unicode standard\n",
        "\n",
        "tokenData = model(textExample)\n",
        "for token in tokenData :\n",
        "  print(token.text , token.pos_)\n"
      ],
      "metadata": {
        "colab": {
          "base_uri": "https://localhost:8080/"
        },
        "id": "lo1kxUCKfFYI",
        "outputId": "57e563a2-09e9-4bdb-f4b8-70e2507139af"
      },
      "execution_count": 11,
      "outputs": [
        {
          "output_type": "stream",
          "name": "stdout",
          "text": [
            "Tesla PROPN\n",
            "is AUX\n",
            "looking VERB\n",
            "at ADP\n",
            "buying VERB\n",
            "U.S. PROPN\n",
            "startups NOUN\n",
            "for ADP\n",
            "$ SYM\n",
            "6 NUM\n",
            "million NUM\n"
          ]
        }
      ]
    },
    {
      "cell_type": "code",
      "source": [
        "#Tokenization"
      ],
      "metadata": {
        "id": "F3FW5DQef3aJ"
      },
      "execution_count": 12,
      "outputs": []
    },
    {
      "cell_type": "code",
      "source": [
        "demoText = u\"We're here to help you! Send snail-mail @ support@prashant.com or visit us @ https://www.prashant.com\"\n",
        "demoText.split(\" \")"
      ],
      "metadata": {
        "colab": {
          "base_uri": "https://localhost:8080/"
        },
        "id": "FuMqmD09gwGd",
        "outputId": "b83a3213-12f2-4094-ec6c-67b1fce5994f"
      },
      "execution_count": 14,
      "outputs": [
        {
          "output_type": "execute_result",
          "data": {
            "text/plain": [
              "[\"We're\",\n",
              " 'here',\n",
              " 'to',\n",
              " 'help',\n",
              " 'you!',\n",
              " 'Send',\n",
              " 'snail-mail',\n",
              " '@',\n",
              " 'support@prashant.com',\n",
              " 'or',\n",
              " 'visit',\n",
              " 'us',\n",
              " '@',\n",
              " 'https://www.prashant.com']"
            ]
          },
          "metadata": {},
          "execution_count": 14
        }
      ]
    },
    {
      "cell_type": "code",
      "source": [
        "for token in model(demoText):\n",
        "  print(token.text)"
      ],
      "metadata": {
        "colab": {
          "base_uri": "https://localhost:8080/"
        },
        "id": "bW768Rk4hSQY",
        "outputId": "9acb8aaa-b814-40f2-888c-287d0634f880"
      },
      "execution_count": 15,
      "outputs": [
        {
          "output_type": "stream",
          "name": "stdout",
          "text": [
            "We\n",
            "'re\n",
            "here\n",
            "to\n",
            "help\n",
            "you\n",
            "!\n",
            "Send\n",
            "snail\n",
            "-\n",
            "mail\n",
            "@\n",
            "support@prashant.com\n",
            "or\n",
            "visit\n",
            "us\n",
            "@\n",
            "https://www.prashant.com\n"
          ]
        }
      ]
    },
    {
      "cell_type": "code",
      "source": [
        "for token in model(u\"Let's visit St. Louis in the U.S. next year!\"):\n",
        "  print(token.text)"
      ],
      "metadata": {
        "colab": {
          "base_uri": "https://localhost:8080/"
        },
        "id": "ElSD61rbhlPf",
        "outputId": "da00349e-bd65-441e-d1a0-dacd0a096d48"
      },
      "execution_count": 16,
      "outputs": [
        {
          "output_type": "stream",
          "name": "stdout",
          "text": [
            "Let\n",
            "'s\n",
            "visit\n",
            "St.\n",
            "Louis\n",
            "in\n",
            "the\n",
            "U.S.\n",
            "next\n",
            "year\n",
            "!\n"
          ]
        }
      ]
    },
    {
      "cell_type": "code",
      "source": [
        "# NER - Named Entity Recognition\n",
        "result = model(u\"Apple to build a factory in Hong Kong and Mumbai with an initial investment of $100 million in collaboration with Microsoft and Simplilearn\")\n",
        "\n",
        "for tokens in result:\n",
        "  print(tokens)\n",
        "\n",
        "print(\"==========================================\")\n",
        "\n",
        "for tokenEntities in result.ents:\n",
        "  print(tokenEntities.text , tokenEntities.label_, spacy.explain(tokenEntities.label_))"
      ],
      "metadata": {
        "colab": {
          "base_uri": "https://localhost:8080/"
        },
        "id": "ja1kohohiB8s",
        "outputId": "7e761ad4-4cd1-41ee-dd33-224f323980a2"
      },
      "execution_count": 17,
      "outputs": [
        {
          "output_type": "stream",
          "name": "stdout",
          "text": [
            "Apple\n",
            "to\n",
            "build\n",
            "a\n",
            "factory\n",
            "in\n",
            "Hong\n",
            "Kong\n",
            "and\n",
            "Mumbai\n",
            "with\n",
            "an\n",
            "initial\n",
            "investment\n",
            "of\n",
            "$\n",
            "100\n",
            "million\n",
            "in\n",
            "collaboration\n",
            "with\n",
            "Microsoft\n",
            "and\n",
            "Simplilearn\n",
            "==========================================\n",
            "Apple ORG Companies, agencies, institutions, etc.\n",
            "Hong Kong GPE Countries, cities, states\n",
            "Mumbai GPE Countries, cities, states\n",
            "$100 million MONEY Monetary values, including unit\n",
            "Microsoft ORG Companies, agencies, institutions, etc.\n",
            "Simplilearn ORG Companies, agencies, institutions, etc.\n"
          ]
        }
      ]
    },
    {
      "cell_type": "code",
      "source": [
        "result = model(u\"An Apple a day keeps the doctor away\")\n",
        "\n",
        "for tokens in result:\n",
        "  print(tokens)\n",
        "\n",
        "print(\"==========================================\")\n",
        "\n",
        "for tokenEntities in result.ents:\n",
        "  print(tokenEntities.text , tokenEntities.label_, spacy.explain(tokenEntities.label_))"
      ],
      "metadata": {
        "colab": {
          "base_uri": "https://localhost:8080/"
        },
        "id": "ll1zZA9ajwSW",
        "outputId": "0284846f-e486-460e-8e7d-ccd87cf49f3a"
      },
      "execution_count": 19,
      "outputs": [
        {
          "output_type": "stream",
          "name": "stdout",
          "text": [
            "An\n",
            "Apple\n",
            "a\n",
            "day\n",
            "keeps\n",
            "the\n",
            "doctor\n",
            "away\n",
            "==========================================\n",
            "Apple ORG Companies, agencies, institutions, etc.\n"
          ]
        }
      ]
    },
    {
      "cell_type": "code",
      "source": [
        "result = model(u\"Narendra Modi is the current PM of India\")\n",
        "\n",
        "for tokens in result:\n",
        "  print(tokens)\n",
        "\n",
        "print(\"==========================================\")\n",
        "\n",
        "for tokenEntities in result.ents:\n",
        "  print(tokenEntities.text , tokenEntities.label_, spacy.explain(tokenEntities.label_))"
      ],
      "metadata": {
        "colab": {
          "base_uri": "https://localhost:8080/"
        },
        "id": "9HrkY4pXkXjD",
        "outputId": "d836ddb7-b218-47e3-9046-a01c48c1dcc8"
      },
      "execution_count": 20,
      "outputs": [
        {
          "output_type": "stream",
          "name": "stdout",
          "text": [
            "Narendra\n",
            "Modi\n",
            "is\n",
            "the\n",
            "current\n",
            "PM\n",
            "of\n",
            "India\n",
            "==========================================\n",
            "Narendra Modi PERSON People, including fictional\n",
            "India GPE Countries, cities, states\n"
          ]
        }
      ]
    },
    {
      "cell_type": "code",
      "source": [
        "# Visualizing the NER components in a sentence!"
      ],
      "metadata": {
        "id": "oQEiwBRWknaE"
      },
      "execution_count": 21,
      "outputs": []
    },
    {
      "cell_type": "code",
      "source": [
        "# NER - Named Entity Recognition\n",
        "result = model(u\"Apple to build a factory in Hong Kong and Mumbai with an initial investment of $100 million in collaboration with Microsoft and Simplilearn\")\n",
        "\n",
        "from spacy import displacy\n",
        "displacy.render(result, jupyter=True, style=\"ent\")"
      ],
      "metadata": {
        "colab": {
          "base_uri": "https://localhost:8080/",
          "height": 52
        },
        "id": "ZD_77VzHk-Dg",
        "outputId": "167d1c30-b757-4f98-ebe3-440c6cdc486b"
      },
      "execution_count": 22,
      "outputs": [
        {
          "output_type": "display_data",
          "data": {
            "text/html": [
              "<span class=\"tex2jax_ignore\"><div class=\"entities\" style=\"line-height: 2.5; direction: ltr\">\n",
              "<mark class=\"entity\" style=\"background: #7aecec; padding: 0.45em 0.6em; margin: 0 0.25em; line-height: 1; border-radius: 0.35em;\">\n",
              "    Apple\n",
              "    <span style=\"font-size: 0.8em; font-weight: bold; line-height: 1; border-radius: 0.35em; text-transform: uppercase; vertical-align: middle; margin-left: 0.5rem\">ORG</span>\n",
              "</mark>\n",
              " to build a factory in \n",
              "<mark class=\"entity\" style=\"background: #feca74; padding: 0.45em 0.6em; margin: 0 0.25em; line-height: 1; border-radius: 0.35em;\">\n",
              "    Hong Kong\n",
              "    <span style=\"font-size: 0.8em; font-weight: bold; line-height: 1; border-radius: 0.35em; text-transform: uppercase; vertical-align: middle; margin-left: 0.5rem\">GPE</span>\n",
              "</mark>\n",
              " and \n",
              "<mark class=\"entity\" style=\"background: #feca74; padding: 0.45em 0.6em; margin: 0 0.25em; line-height: 1; border-radius: 0.35em;\">\n",
              "    Mumbai\n",
              "    <span style=\"font-size: 0.8em; font-weight: bold; line-height: 1; border-radius: 0.35em; text-transform: uppercase; vertical-align: middle; margin-left: 0.5rem\">GPE</span>\n",
              "</mark>\n",
              " with an initial investment of \n",
              "<mark class=\"entity\" style=\"background: #e4e7d2; padding: 0.45em 0.6em; margin: 0 0.25em; line-height: 1; border-radius: 0.35em;\">\n",
              "    $100 million\n",
              "    <span style=\"font-size: 0.8em; font-weight: bold; line-height: 1; border-radius: 0.35em; text-transform: uppercase; vertical-align: middle; margin-left: 0.5rem\">MONEY</span>\n",
              "</mark>\n",
              " in collaboration with \n",
              "<mark class=\"entity\" style=\"background: #7aecec; padding: 0.45em 0.6em; margin: 0 0.25em; line-height: 1; border-radius: 0.35em;\">\n",
              "    Microsoft\n",
              "    <span style=\"font-size: 0.8em; font-weight: bold; line-height: 1; border-radius: 0.35em; text-transform: uppercase; vertical-align: middle; margin-left: 0.5rem\">ORG</span>\n",
              "</mark>\n",
              " and \n",
              "<mark class=\"entity\" style=\"background: #7aecec; padding: 0.45em 0.6em; margin: 0 0.25em; line-height: 1; border-radius: 0.35em;\">\n",
              "    Simplilearn\n",
              "    <span style=\"font-size: 0.8em; font-weight: bold; line-height: 1; border-radius: 0.35em; text-transform: uppercase; vertical-align: middle; margin-left: 0.5rem\">ORG</span>\n",
              "</mark>\n",
              "</div></span>"
            ],
            "text/plain": [
              "<IPython.core.display.HTML object>"
            ]
          },
          "metadata": {}
        }
      ]
    },
    {
      "cell_type": "code",
      "source": [
        "# Stemming -- Using NLTK Package\n",
        "# Reasons as of dated 13Feb2022:\n",
        "#    1. NLTK Stemmer and Lemmatizer's time complexity and turn around time is the fastest\n",
        "#    2. NLTK's method is widely adopted by enterprise app design framework !\n",
        "\n",
        "\n",
        "# If nltk is not present ------------> pip install nltk "
      ],
      "metadata": {
        "id": "2IXfiPKolbIX"
      },
      "execution_count": 23,
      "outputs": []
    },
    {
      "cell_type": "code",
      "source": [
        "import nltk"
      ],
      "metadata": {
        "id": "18aA7W9GlqUC"
      },
      "execution_count": 24,
      "outputs": []
    },
    {
      "cell_type": "code",
      "source": [
        "from nltk.stem.porter import PorterStemmer\n",
        "\n",
        "stemObject = PorterStemmer()"
      ],
      "metadata": {
        "id": "NpZBB93-nAXI"
      },
      "execution_count": 25,
      "outputs": []
    },
    {
      "cell_type": "code",
      "source": [
        "wordList = [\"branching\",\"branched\",\"branches\",\"caching\",\"cached\",\"caches\",\"easily\"]\n",
        "\n",
        "for word in wordList:\n",
        "  print(word , stemObject.stem(word))"
      ],
      "metadata": {
        "colab": {
          "base_uri": "https://localhost:8080/"
        },
        "id": "rOFxLTZgnPuH",
        "outputId": "d5e73dd0-0470-4bdf-f5e3-6086949e7dae"
      },
      "execution_count": 26,
      "outputs": [
        {
          "output_type": "stream",
          "name": "stdout",
          "text": [
            "branching branch\n",
            "branched branch\n",
            "branches branch\n",
            "caching cach\n",
            "cached cach\n",
            "caches cach\n",
            "easily easili\n"
          ]
        }
      ]
    },
    {
      "cell_type": "code",
      "source": [
        "# Lemmatization Example\n"
      ],
      "metadata": {
        "id": "uZ46_Dwenior"
      },
      "execution_count": 27,
      "outputs": []
    },
    {
      "cell_type": "code",
      "source": [
        "result = model(u\"branching branched branches caching cached caches easily\")\n",
        "for token in result:\n",
        "  print(token.text+\"  \"+token.lemma_)"
      ],
      "metadata": {
        "colab": {
          "base_uri": "https://localhost:8080/"
        },
        "id": "8RSvESg_nw9q",
        "outputId": "48599ef7-5c4f-450f-bf2b-3e12ee34ef66"
      },
      "execution_count": 30,
      "outputs": [
        {
          "output_type": "stream",
          "name": "stdout",
          "text": [
            "branching  branching\n",
            "branched  branch\n",
            "branches  branch\n",
            "caching  cache\n",
            "cached  cached\n",
            "caches  cache\n",
            "easily  easily\n"
          ]
        }
      ]
    },
    {
      "cell_type": "code",
      "source": [
        "#Using NLTK\n",
        "import nltk\n",
        "from nltk.stem import WordNetLemmatizer"
      ],
      "metadata": {
        "id": "OvruYLHyn1PE"
      },
      "execution_count": 34,
      "outputs": []
    },
    {
      "cell_type": "code",
      "source": [
        "nltk.download('wordnet')"
      ],
      "metadata": {
        "colab": {
          "base_uri": "https://localhost:8080/"
        },
        "id": "CBVZdYptpu_1",
        "outputId": "364847e7-247e-4d9c-fe41-7d49000f469c"
      },
      "execution_count": 35,
      "outputs": [
        {
          "output_type": "stream",
          "name": "stdout",
          "text": [
            "[nltk_data] Downloading package wordnet to /root/nltk_data...\n",
            "[nltk_data]   Unzipping corpora/wordnet.zip.\n"
          ]
        },
        {
          "output_type": "execute_result",
          "data": {
            "text/plain": [
              "True"
            ]
          },
          "metadata": {},
          "execution_count": 35
        }
      ]
    },
    {
      "cell_type": "code",
      "source": [
        "lemmaObject = WordNetLemmatizer()\n",
        "\n",
        "lemmaObject.lemmatize(\"trains\")"
      ],
      "metadata": {
        "colab": {
          "base_uri": "https://localhost:8080/",
          "height": 35
        },
        "id": "HgyDP-3vpTBp",
        "outputId": "99bc2a05-e21d-490c-cd65-31b8a324474e"
      },
      "execution_count": 40,
      "outputs": [
        {
          "output_type": "execute_result",
          "data": {
            "application/vnd.google.colaboratory.intrinsic+json": {
              "type": "string"
            },
            "text/plain": [
              "'train'"
            ]
          },
          "metadata": {},
          "execution_count": 40
        }
      ]
    },
    {
      "cell_type": "code",
      "source": [
        ""
      ],
      "metadata": {
        "id": "21HSf-ssphsO"
      },
      "execution_count": null,
      "outputs": []
    }
  ]
}
{
  "nbformat": 4,
  "nbformat_minor": 0,
  "metadata": {
    "colab": {
      "provenance": []
    },
    "kernelspec": {
      "name": "python3",
      "display_name": "Python 3"
    },
    "language_info": {
      "name": "python"
    }
  },
  "cells": [
    {
      "cell_type": "code",
      "execution_count": 1,
      "metadata": {
        "id": "uFXb7AvoVJNG"
      },
      "outputs": [],
      "source": [
        "import pandas as pd\n",
        "import numpy as np\n",
        "import matplotlib.pyplot as plt"
      ]
    },
    {
      "cell_type": "code",
      "source": [
        "Irisdata = pd.read_csv('iris.csv')"
      ],
      "metadata": {
        "id": "dHH9YVdzVNX8"
      },
      "execution_count": 2,
      "outputs": []
    },
    {
      "cell_type": "code",
      "source": [
        "Irisdata.head()"
      ],
      "metadata": {
        "colab": {
          "base_uri": "https://localhost:8080/",
          "height": 206
        },
        "id": "w1D5TNFVVNdY",
        "outputId": "650ae630-1c56-45e5-ce22-d79144e1cc5c"
      },
      "execution_count": 3,
      "outputs": [
        {
          "output_type": "execute_result",
          "data": {
            "text/plain": [
              "   sepal_length  sepal_width  petal_length  petal_width        class\n",
              "0           5.1          3.5           1.4          0.2  Iris-setosa\n",
              "1           4.9          3.0           1.4          0.2  Iris-setosa\n",
              "2           4.7          3.2           1.3          0.2  Iris-setosa\n",
              "3           4.6          3.1           1.5          0.2  Iris-setosa\n",
              "4           5.0          3.6           1.4          0.2  Iris-setosa"
            ],
            "text/html": [
              "\n",
              "  <div id=\"df-18c76cae-e34f-4cfd-9a67-02d5ab821fff\">\n",
              "    <div class=\"colab-df-container\">\n",
              "      <div>\n",
              "<style scoped>\n",
              "    .dataframe tbody tr th:only-of-type {\n",
              "        vertical-align: middle;\n",
              "    }\n",
              "\n",
              "    .dataframe tbody tr th {\n",
              "        vertical-align: top;\n",
              "    }\n",
              "\n",
              "    .dataframe thead th {\n",
              "        text-align: right;\n",
              "    }\n",
              "</style>\n",
              "<table border=\"1\" class=\"dataframe\">\n",
              "  <thead>\n",
              "    <tr style=\"text-align: right;\">\n",
              "      <th></th>\n",
              "      <th>sepal_length</th>\n",
              "      <th>sepal_width</th>\n",
              "      <th>petal_length</th>\n",
              "      <th>petal_width</th>\n",
              "      <th>class</th>\n",
              "    </tr>\n",
              "  </thead>\n",
              "  <tbody>\n",
              "    <tr>\n",
              "      <th>0</th>\n",
              "      <td>5.1</td>\n",
              "      <td>3.5</td>\n",
              "      <td>1.4</td>\n",
              "      <td>0.2</td>\n",
              "      <td>Iris-setosa</td>\n",
              "    </tr>\n",
              "    <tr>\n",
              "      <th>1</th>\n",
              "      <td>4.9</td>\n",
              "      <td>3.0</td>\n",
              "      <td>1.4</td>\n",
              "      <td>0.2</td>\n",
              "      <td>Iris-setosa</td>\n",
              "    </tr>\n",
              "    <tr>\n",
              "      <th>2</th>\n",
              "      <td>4.7</td>\n",
              "      <td>3.2</td>\n",
              "      <td>1.3</td>\n",
              "      <td>0.2</td>\n",
              "      <td>Iris-setosa</td>\n",
              "    </tr>\n",
              "    <tr>\n",
              "      <th>3</th>\n",
              "      <td>4.6</td>\n",
              "      <td>3.1</td>\n",
              "      <td>1.5</td>\n",
              "      <td>0.2</td>\n",
              "      <td>Iris-setosa</td>\n",
              "    </tr>\n",
              "    <tr>\n",
              "      <th>4</th>\n",
              "      <td>5.0</td>\n",
              "      <td>3.6</td>\n",
              "      <td>1.4</td>\n",
              "      <td>0.2</td>\n",
              "      <td>Iris-setosa</td>\n",
              "    </tr>\n",
              "  </tbody>\n",
              "</table>\n",
              "</div>\n",
              "      <button class=\"colab-df-convert\" onclick=\"convertToInteractive('df-18c76cae-e34f-4cfd-9a67-02d5ab821fff')\"\n",
              "              title=\"Convert this dataframe to an interactive table.\"\n",
              "              style=\"display:none;\">\n",
              "        \n",
              "  <svg xmlns=\"http://www.w3.org/2000/svg\" height=\"24px\"viewBox=\"0 0 24 24\"\n",
              "       width=\"24px\">\n",
              "    <path d=\"M0 0h24v24H0V0z\" fill=\"none\"/>\n",
              "    <path d=\"M18.56 5.44l.94 2.06.94-2.06 2.06-.94-2.06-.94-.94-2.06-.94 2.06-2.06.94zm-11 1L8.5 8.5l.94-2.06 2.06-.94-2.06-.94L8.5 2.5l-.94 2.06-2.06.94zm10 10l.94 2.06.94-2.06 2.06-.94-2.06-.94-.94-2.06-.94 2.06-2.06.94z\"/><path d=\"M17.41 7.96l-1.37-1.37c-.4-.4-.92-.59-1.43-.59-.52 0-1.04.2-1.43.59L10.3 9.45l-7.72 7.72c-.78.78-.78 2.05 0 2.83L4 21.41c.39.39.9.59 1.41.59.51 0 1.02-.2 1.41-.59l7.78-7.78 2.81-2.81c.8-.78.8-2.07 0-2.86zM5.41 20L4 18.59l7.72-7.72 1.47 1.35L5.41 20z\"/>\n",
              "  </svg>\n",
              "      </button>\n",
              "      \n",
              "  <style>\n",
              "    .colab-df-container {\n",
              "      display:flex;\n",
              "      flex-wrap:wrap;\n",
              "      gap: 12px;\n",
              "    }\n",
              "\n",
              "    .colab-df-convert {\n",
              "      background-color: #E8F0FE;\n",
              "      border: none;\n",
              "      border-radius: 50%;\n",
              "      cursor: pointer;\n",
              "      display: none;\n",
              "      fill: #1967D2;\n",
              "      height: 32px;\n",
              "      padding: 0 0 0 0;\n",
              "      width: 32px;\n",
              "    }\n",
              "\n",
              "    .colab-df-convert:hover {\n",
              "      background-color: #E2EBFA;\n",
              "      box-shadow: 0px 1px 2px rgba(60, 64, 67, 0.3), 0px 1px 3px 1px rgba(60, 64, 67, 0.15);\n",
              "      fill: #174EA6;\n",
              "    }\n",
              "\n",
              "    [theme=dark] .colab-df-convert {\n",
              "      background-color: #3B4455;\n",
              "      fill: #D2E3FC;\n",
              "    }\n",
              "\n",
              "    [theme=dark] .colab-df-convert:hover {\n",
              "      background-color: #434B5C;\n",
              "      box-shadow: 0px 1px 3px 1px rgba(0, 0, 0, 0.15);\n",
              "      filter: drop-shadow(0px 1px 2px rgba(0, 0, 0, 0.3));\n",
              "      fill: #FFFFFF;\n",
              "    }\n",
              "  </style>\n",
              "\n",
              "      <script>\n",
              "        const buttonEl =\n",
              "          document.querySelector('#df-18c76cae-e34f-4cfd-9a67-02d5ab821fff button.colab-df-convert');\n",
              "        buttonEl.style.display =\n",
              "          google.colab.kernel.accessAllowed ? 'block' : 'none';\n",
              "\n",
              "        async function convertToInteractive(key) {\n",
              "          const element = document.querySelector('#df-18c76cae-e34f-4cfd-9a67-02d5ab821fff');\n",
              "          const dataTable =\n",
              "            await google.colab.kernel.invokeFunction('convertToInteractive',\n",
              "                                                     [key], {});\n",
              "          if (!dataTable) return;\n",
              "\n",
              "          const docLinkHtml = 'Like what you see? Visit the ' +\n",
              "            '<a target=\"_blank\" href=https://colab.research.google.com/notebooks/data_table.ipynb>data table notebook</a>'\n",
              "            + ' to learn more about interactive tables.';\n",
              "          element.innerHTML = '';\n",
              "          dataTable['output_type'] = 'display_data';\n",
              "          await google.colab.output.renderOutput(dataTable, element);\n",
              "          const docLink = document.createElement('div');\n",
              "          docLink.innerHTML = docLinkHtml;\n",
              "          element.appendChild(docLink);\n",
              "        }\n",
              "      </script>\n",
              "    </div>\n",
              "  </div>\n",
              "  "
            ]
          },
          "metadata": {},
          "execution_count": 3
        }
      ]
    },
    {
      "cell_type": "code",
      "source": [
        "Irisdata.isnull().sum()"
      ],
      "metadata": {
        "colab": {
          "base_uri": "https://localhost:8080/"
        },
        "id": "qEps3E8vVNi7",
        "outputId": "6fff4939-e72e-4974-f6f8-5f5e3ced3fdc"
      },
      "execution_count": 4,
      "outputs": [
        {
          "output_type": "execute_result",
          "data": {
            "text/plain": [
              "sepal_length    0\n",
              "sepal_width     0\n",
              "petal_length    0\n",
              "petal_width     0\n",
              "class           0\n",
              "dtype: int64"
            ]
          },
          "metadata": {},
          "execution_count": 4
        }
      ]
    },
    {
      "cell_type": "code",
      "source": [
        "Irisdata['class'].unique()"
      ],
      "metadata": {
        "colab": {
          "base_uri": "https://localhost:8080/"
        },
        "id": "rSUJp5IsVNoM",
        "outputId": "0d5ca2b2-f876-4e08-f3c2-1e4d454dc4e2"
      },
      "execution_count": 5,
      "outputs": [
        {
          "output_type": "execute_result",
          "data": {
            "text/plain": [
              "array(['Iris-setosa', 'Iris-versicolor', 'Iris-virginica'], dtype=object)"
            ]
          },
          "metadata": {},
          "execution_count": 5
        }
      ]
    },
    {
      "cell_type": "code",
      "source": [
        "x = Irisdata.iloc[: , 0:4]"
      ],
      "metadata": {
        "id": "1q4m7HPgVNuJ"
      },
      "execution_count": 6,
      "outputs": []
    },
    {
      "cell_type": "code",
      "source": [
        "y = Irisdata.iloc[: , [4]]"
      ],
      "metadata": {
        "id": "rDp9Ep8xVN1A"
      },
      "execution_count": 7,
      "outputs": []
    },
    {
      "cell_type": "code",
      "source": [
        "from sklearn.preprocessing import LabelEncoder\n",
        "\n",
        "le = LabelEncoder()\n",
        "y_le = le.fit_transform(y)"
      ],
      "metadata": {
        "colab": {
          "base_uri": "https://localhost:8080/"
        },
        "id": "xXhwH5JYZEF9",
        "outputId": "ed6ce3a1-d62c-4682-ab64-67b899f8f0e8"
      },
      "execution_count": 8,
      "outputs": [
        {
          "output_type": "stream",
          "name": "stderr",
          "text": [
            "/usr/local/lib/python3.7/dist-packages/sklearn/preprocessing/_label.py:115: DataConversionWarning: A column-vector y was passed when a 1d array was expected. Please change the shape of y to (n_samples, ), for example using ravel().\n",
            "  y = column_or_1d(y, warn=True)\n"
          ]
        }
      ]
    },
    {
      "cell_type": "code",
      "source": [
        "import tensorflow as tf"
      ],
      "metadata": {
        "id": "BMS-vhYxZEKY"
      },
      "execution_count": 9,
      "outputs": []
    },
    {
      "cell_type": "code",
      "source": [
        "y_label = tf.keras.utils.to_categorical(y_le)"
      ],
      "metadata": {
        "id": "Z29roira2NjI"
      },
      "execution_count": 10,
      "outputs": []
    },
    {
      "cell_type": "code",
      "source": [
        "y_label"
      ],
      "metadata": {
        "colab": {
          "base_uri": "https://localhost:8080/"
        },
        "id": "MSZkze-xZEN8",
        "outputId": "dd4edad7-e432-4194-8d60-28955c0d50cb"
      },
      "execution_count": 11,
      "outputs": [
        {
          "output_type": "execute_result",
          "data": {
            "text/plain": [
              "array([[1., 0., 0.],\n",
              "       [1., 0., 0.],\n",
              "       [1., 0., 0.],\n",
              "       [1., 0., 0.],\n",
              "       [1., 0., 0.],\n",
              "       [1., 0., 0.],\n",
              "       [1., 0., 0.],\n",
              "       [1., 0., 0.],\n",
              "       [1., 0., 0.],\n",
              "       [1., 0., 0.],\n",
              "       [1., 0., 0.],\n",
              "       [1., 0., 0.],\n",
              "       [1., 0., 0.],\n",
              "       [1., 0., 0.],\n",
              "       [1., 0., 0.],\n",
              "       [1., 0., 0.],\n",
              "       [1., 0., 0.],\n",
              "       [1., 0., 0.],\n",
              "       [1., 0., 0.],\n",
              "       [1., 0., 0.],\n",
              "       [1., 0., 0.],\n",
              "       [1., 0., 0.],\n",
              "       [1., 0., 0.],\n",
              "       [1., 0., 0.],\n",
              "       [1., 0., 0.],\n",
              "       [1., 0., 0.],\n",
              "       [1., 0., 0.],\n",
              "       [1., 0., 0.],\n",
              "       [1., 0., 0.],\n",
              "       [1., 0., 0.],\n",
              "       [1., 0., 0.],\n",
              "       [1., 0., 0.],\n",
              "       [1., 0., 0.],\n",
              "       [1., 0., 0.],\n",
              "       [1., 0., 0.],\n",
              "       [1., 0., 0.],\n",
              "       [1., 0., 0.],\n",
              "       [1., 0., 0.],\n",
              "       [1., 0., 0.],\n",
              "       [1., 0., 0.],\n",
              "       [1., 0., 0.],\n",
              "       [1., 0., 0.],\n",
              "       [1., 0., 0.],\n",
              "       [1., 0., 0.],\n",
              "       [1., 0., 0.],\n",
              "       [1., 0., 0.],\n",
              "       [1., 0., 0.],\n",
              "       [1., 0., 0.],\n",
              "       [1., 0., 0.],\n",
              "       [1., 0., 0.],\n",
              "       [0., 1., 0.],\n",
              "       [0., 1., 0.],\n",
              "       [0., 1., 0.],\n",
              "       [0., 1., 0.],\n",
              "       [0., 1., 0.],\n",
              "       [0., 1., 0.],\n",
              "       [0., 1., 0.],\n",
              "       [0., 1., 0.],\n",
              "       [0., 1., 0.],\n",
              "       [0., 1., 0.],\n",
              "       [0., 1., 0.],\n",
              "       [0., 1., 0.],\n",
              "       [0., 1., 0.],\n",
              "       [0., 1., 0.],\n",
              "       [0., 1., 0.],\n",
              "       [0., 1., 0.],\n",
              "       [0., 1., 0.],\n",
              "       [0., 1., 0.],\n",
              "       [0., 1., 0.],\n",
              "       [0., 1., 0.],\n",
              "       [0., 1., 0.],\n",
              "       [0., 1., 0.],\n",
              "       [0., 1., 0.],\n",
              "       [0., 1., 0.],\n",
              "       [0., 1., 0.],\n",
              "       [0., 1., 0.],\n",
              "       [0., 1., 0.],\n",
              "       [0., 1., 0.],\n",
              "       [0., 1., 0.],\n",
              "       [0., 1., 0.],\n",
              "       [0., 1., 0.],\n",
              "       [0., 1., 0.],\n",
              "       [0., 1., 0.],\n",
              "       [0., 1., 0.],\n",
              "       [0., 1., 0.],\n",
              "       [0., 1., 0.],\n",
              "       [0., 1., 0.],\n",
              "       [0., 1., 0.],\n",
              "       [0., 1., 0.],\n",
              "       [0., 1., 0.],\n",
              "       [0., 1., 0.],\n",
              "       [0., 1., 0.],\n",
              "       [0., 1., 0.],\n",
              "       [0., 1., 0.],\n",
              "       [0., 1., 0.],\n",
              "       [0., 1., 0.],\n",
              "       [0., 1., 0.],\n",
              "       [0., 1., 0.],\n",
              "       [0., 1., 0.],\n",
              "       [0., 1., 0.],\n",
              "       [0., 0., 1.],\n",
              "       [0., 0., 1.],\n",
              "       [0., 0., 1.],\n",
              "       [0., 0., 1.],\n",
              "       [0., 0., 1.],\n",
              "       [0., 0., 1.],\n",
              "       [0., 0., 1.],\n",
              "       [0., 0., 1.],\n",
              "       [0., 0., 1.],\n",
              "       [0., 0., 1.],\n",
              "       [0., 0., 1.],\n",
              "       [0., 0., 1.],\n",
              "       [0., 0., 1.],\n",
              "       [0., 0., 1.],\n",
              "       [0., 0., 1.],\n",
              "       [0., 0., 1.],\n",
              "       [0., 0., 1.],\n",
              "       [0., 0., 1.],\n",
              "       [0., 0., 1.],\n",
              "       [0., 0., 1.],\n",
              "       [0., 0., 1.],\n",
              "       [0., 0., 1.],\n",
              "       [0., 0., 1.],\n",
              "       [0., 0., 1.],\n",
              "       [0., 0., 1.],\n",
              "       [0., 0., 1.],\n",
              "       [0., 0., 1.],\n",
              "       [0., 0., 1.],\n",
              "       [0., 0., 1.],\n",
              "       [0., 0., 1.],\n",
              "       [0., 0., 1.],\n",
              "       [0., 0., 1.],\n",
              "       [0., 0., 1.],\n",
              "       [0., 0., 1.],\n",
              "       [0., 0., 1.],\n",
              "       [0., 0., 1.],\n",
              "       [0., 0., 1.],\n",
              "       [0., 0., 1.],\n",
              "       [0., 0., 1.],\n",
              "       [0., 0., 1.],\n",
              "       [0., 0., 1.],\n",
              "       [0., 0., 1.],\n",
              "       [0., 0., 1.],\n",
              "       [0., 0., 1.],\n",
              "       [0., 0., 1.],\n",
              "       [0., 0., 1.],\n",
              "       [0., 0., 1.],\n",
              "       [0., 0., 1.],\n",
              "       [0., 0., 1.],\n",
              "       [0., 0., 1.]], dtype=float32)"
            ]
          },
          "metadata": {},
          "execution_count": 11
        }
      ]
    },
    {
      "cell_type": "code",
      "source": [
        "import seaborn as sns "
      ],
      "metadata": {
        "id": "bd8JFEwMaIjs"
      },
      "execution_count": 12,
      "outputs": []
    },
    {
      "cell_type": "code",
      "source": [
        "for i in x.columns :\n",
        " sns.boxplot(x[i])\n",
        " plt.show()"
      ],
      "metadata": {
        "colab": {
          "base_uri": "https://localhost:8080/",
          "height": 1000
        },
        "id": "e4lWSbuaZESA",
        "outputId": "b4afb2b7-f958-42c4-b3bb-c0eef9804ffb"
      },
      "execution_count": 13,
      "outputs": [
        {
          "output_type": "stream",
          "name": "stderr",
          "text": [
            "/usr/local/lib/python3.7/dist-packages/seaborn/_decorators.py:43: FutureWarning: Pass the following variable as a keyword arg: x. From version 0.12, the only valid positional argument will be `data`, and passing other arguments without an explicit keyword will result in an error or misinterpretation.\n",
            "  FutureWarning\n"
          ]
        },
        {
          "output_type": "display_data",
          "data": {
            "text/plain": [
              "<Figure size 432x288 with 1 Axes>"
            ],
            "image/png": "[encoded data removed]"
          },
          "metadata": {
            "needs_background": "light"
          }
        },
        {
          "output_type": "stream",
          "name": "stderr",
          "text": [
            "/usr/local/lib/python3.7/dist-packages/seaborn/_decorators.py:43: FutureWarning: Pass the following variable as a keyword arg: x. From version 0.12, the only valid positional argument will be `data`, and passing other arguments without an explicit keyword will result in an error or misinterpretation.\n",
            "  FutureWarning\n"
          ]
        },
        {
          "output_type": "display_data",
          "data": {
            "text/plain": [
              "<Figure size 432x288 with 1 Axes>"
            ],
            "image/png": "[encoded data removed]"
          },
          "metadata": {
            "needs_background": "light"
          }
        },
        {
          "output_type": "stream",
          "name": "stderr",
          "text": [
            "/usr/local/lib/python3.7/dist-packages/seaborn/_decorators.py:43: FutureWarning: Pass the following variable as a keyword arg: x. From version 0.12, the only valid positional argument will be `data`, and passing other arguments without an explicit keyword will result in an error or misinterpretation.\n",
            "  FutureWarning\n"
          ]
        },
        {
          "output_type": "display_data",
          "data": {
            "text/plain": [
              "<Figure size 432x288 with 1 Axes>"
            ],
            "image/png": "[encoded data removed]"
          },
          "metadata": {
            "needs_background": "light"
          }
        },
        {
          "output_type": "stream",
          "name": "stderr",
          "text": [
            "/usr/local/lib/python3.7/dist-packages/seaborn/_decorators.py:43: FutureWarning: Pass the following variable as a keyword arg: x. From version 0.12, the only valid positional argument will be `data`, and passing other arguments without an explicit keyword will result in an error or misinterpretation.\n",
            "  FutureWarning\n"
          ]
        },
        {
          "output_type": "display_data",
          "data": {
            "text/plain": [
              "<Figure size 432x288 with 1 Axes>"
            ],
            "image/png": "[encoded data removed]"
          },
          "metadata": {
            "needs_background": "light"
          }
        }
      ]
    },
    {
      "cell_type": "code",
      "source": [
        "from sklearn.preprocessing import StandardScaler"
      ],
      "metadata": {
        "id": "VqM-6uRgZEV4"
      },
      "execution_count": 14,
      "outputs": []
    },
    {
      "cell_type": "code",
      "source": [
        "sc = StandardScaler()"
      ],
      "metadata": {
        "id": "43Xf91rRaeFE"
      },
      "execution_count": 15,
      "outputs": []
    },
    {
      "cell_type": "code",
      "source": [
        "xsacled = sc.fit_transform(x)"
      ],
      "metadata": {
        "id": "gV1mRxUZaeJ-"
      },
      "execution_count": 16,
      "outputs": []
    },
    {
      "cell_type": "code",
      "source": [
        "from sklearn.model_selection import train_test_split"
      ],
      "metadata": {
        "id": "dEiL5GYlb1aD"
      },
      "execution_count": 17,
      "outputs": []
    },
    {
      "cell_type": "code",
      "source": [
        "xtrain , xtest , ytrain ,ytest = train_test_split(xsacled , y_label , random_state = 1  )"
      ],
      "metadata": {
        "id": "2enFdSRPb8fg"
      },
      "execution_count": 18,
      "outputs": []
    },
    {
      "cell_type": "code",
      "source": [],
      "metadata": {
        "id": "1RaXm7xIb8nl"
      },
      "execution_count": 18,
      "outputs": []
    },
    {
      "cell_type": "code",
      "source": [
        "seq = tf.keras.models.Sequential()\n",
        "seq.add(tf.keras.layers.Dense(units = 20 , activation = 'relu' , input_shape = (4,)))"
      ],
      "metadata": {
        "id": "5wpQfzAiaeNr"
      },
      "execution_count": 30,
      "outputs": []
    },
    {
      "cell_type": "code",
      "source": [
        "seq.add(tf.keras.layers.Dense(units = 10 , activation = 'relu' ))"
      ],
      "metadata": {
        "id": "vqwx3c3GaeQ3"
      },
      "execution_count": 31,
      "outputs": []
    },
    {
      "cell_type": "code",
      "source": [
        "seq.add(tf.keras.layers.Dense(units = 10 , activation = 'relu' ))"
      ],
      "metadata": {
        "id": "7MBgOkbaaeUX"
      },
      "execution_count": 32,
      "outputs": []
    },
    {
      "cell_type": "code",
      "source": [
        "seq.add(tf.keras.layers.Dense(units = 5 , activation = 'relu' ))"
      ],
      "metadata": {
        "id": "Ik5Gang8bKRA"
      },
      "execution_count": 33,
      "outputs": []
    },
    {
      "cell_type": "code",
      "source": [
        "seq.add(tf.keras.layers.Dense(units = 5 , activation = 'relu' ))"
      ],
      "metadata": {
        "id": "730F_MaybKYB"
      },
      "execution_count": 34,
      "outputs": []
    },
    {
      "cell_type": "code",
      "source": [
        "seq.add(tf.keras.layers.Dense(units = 3 , activation = 'softmax' ))"
      ],
      "metadata": {
        "id": "DAXoWvYCbQTS"
      },
      "execution_count": 35,
      "outputs": []
    },
    {
      "cell_type": "code",
      "source": [
        "seq.compile(\n",
        "    optimizer = 'adam' ,\n",
        "    loss = 'categorical_crossentropy' ,\n",
        "    metrics = ['accuracy']\n",
        ")"
      ],
      "metadata": {
        "id": "8mAxY3MBbYyU"
      },
      "execution_count": 36,
      "outputs": []
    },
    {
      "cell_type": "code",
      "source": [
        "hist = seq.fit(xtrain ,ytrain , epochs = 150 , validation_data = [ xtest , ytest])"
      ],
      "metadata": {
        "colab": {
          "base_uri": "https://localhost:8080/"
        },
        "id": "XPqqY_DgbY3k",
        "outputId": "a3cda850-0bf5-46d7-db40-746ac597b0b0"
      },
      "execution_count": 37,
      "outputs": [
        {
          "output_type": "stream",
          "name": "stdout",
          "text": [
            "Epoch 1/150\n",
            "4/4 [==============================] - 1s 74ms/step - loss: 1.1128 - accuracy: 0.2857 - val_loss: 1.0975 - val_accuracy: 0.3421\n",
            "Epoch 2/150\n",
            "4/4 [==============================] - 0s 13ms/step - loss: 1.1021 - accuracy: 0.2321 - val_loss: 1.0936 - val_accuracy: 0.3158\n",
            "Epoch 3/150\n",
            "4/4 [==============================] - 0s 12ms/step - loss: 1.0963 - accuracy: 0.2500 - val_loss: 1.0892 - val_accuracy: 0.2632\n",
            "Epoch 4/150\n",
            "4/4 [==============================] - 0s 11ms/step - loss: 1.0906 - accuracy: 0.3304 - val_loss: 1.0822 - val_accuracy: 0.4474\n",
            "Epoch 5/150\n",
            "4/4 [==============================] - 0s 13ms/step - loss: 1.0844 - accuracy: 0.4286 - val_loss: 1.0744 - val_accuracy: 0.6053\n",
            "Epoch 6/150\n",
            "4/4 [==============================] - 0s 11ms/step - loss: 1.0765 - accuracy: 0.5536 - val_loss: 1.0663 - val_accuracy: 0.7105\n",
            "Epoch 7/150\n",
            "4/4 [==============================] - 0s 12ms/step - loss: 1.0687 - accuracy: 0.6607 - val_loss: 1.0572 - val_accuracy: 0.7632\n",
            "Epoch 8/150\n",
            "4/4 [==============================] - 0s 17ms/step - loss: 1.0599 - accuracy: 0.7411 - val_loss: 1.0477 - val_accuracy: 0.7632\n",
            "Epoch 9/150\n",
            "4/4 [==============================] - 0s 12ms/step - loss: 1.0515 - accuracy: 0.7321 - val_loss: 1.0379 - val_accuracy: 0.7895\n",
            "Epoch 10/150\n",
            "4/4 [==============================] - 0s 10ms/step - loss: 1.0414 - accuracy: 0.7321 - val_loss: 1.0278 - val_accuracy: 0.7632\n",
            "Epoch 11/150\n",
            "4/4 [==============================] - 0s 11ms/step - loss: 1.0298 - accuracy: 0.7589 - val_loss: 1.0169 - val_accuracy: 0.7105\n",
            "Epoch 12/150\n",
            "4/4 [==============================] - 0s 12ms/step - loss: 1.0175 - accuracy: 0.7500 - val_loss: 1.0045 - val_accuracy: 0.6579\n",
            "Epoch 13/150\n",
            "4/4 [==============================] - 0s 12ms/step - loss: 1.0038 - accuracy: 0.7679 - val_loss: 0.9913 - val_accuracy: 0.6316\n",
            "Epoch 14/150\n",
            "4/4 [==============================] - 0s 10ms/step - loss: 0.9884 - accuracy: 0.7589 - val_loss: 0.9773 - val_accuracy: 0.6579\n",
            "Epoch 15/150\n",
            "4/4 [==============================] - 0s 12ms/step - loss: 0.9719 - accuracy: 0.7589 - val_loss: 0.9622 - val_accuracy: 0.6579\n",
            "Epoch 16/150\n",
            "4/4 [==============================] - 0s 11ms/step - loss: 0.9535 - accuracy: 0.7679 - val_loss: 0.9458 - val_accuracy: 0.6842\n",
            "Epoch 17/150\n",
            "4/4 [==============================] - 0s 11ms/step - loss: 0.9328 - accuracy: 0.7679 - val_loss: 0.9276 - val_accuracy: 0.6842\n",
            "Epoch 18/150\n",
            "4/4 [==============================] - 0s 11ms/step - loss: 0.9120 - accuracy: 0.7500 - val_loss: 0.9084 - val_accuracy: 0.6579\n",
            "Epoch 19/150\n",
            "4/4 [==============================] - 0s 11ms/step - loss: 0.8867 - accuracy: 0.7411 - val_loss: 0.8876 - val_accuracy: 0.6579\n",
            "Epoch 20/150\n",
            "4/4 [==============================] - 0s 12ms/step - loss: 0.8600 - accuracy: 0.7411 - val_loss: 0.8649 - val_accuracy: 0.6579\n",
            "Epoch 21/150\n",
            "4/4 [==============================] - 0s 10ms/step - loss: 0.8333 - accuracy: 0.7232 - val_loss: 0.8408 - val_accuracy: 0.6842\n",
            "Epoch 22/150\n",
            "4/4 [==============================] - 0s 17ms/step - loss: 0.8029 - accuracy: 0.7232 - val_loss: 0.8162 - val_accuracy: 0.6579\n",
            "Epoch 23/150\n",
            "4/4 [==============================] - 0s 11ms/step - loss: 0.7716 - accuracy: 0.7321 - val_loss: 0.7904 - val_accuracy: 0.6579\n",
            "Epoch 24/150\n",
            "4/4 [==============================] - 0s 11ms/step - loss: 0.7403 - accuracy: 0.7411 - val_loss: 0.7655 - val_accuracy: 0.6842\n",
            "Epoch 25/150\n",
            "4/4 [==============================] - 0s 17ms/step - loss: 0.7090 - accuracy: 0.7321 - val_loss: 0.7427 - val_accuracy: 0.6842\n",
            "Epoch 26/150\n",
            "4/4 [==============================] - 0s 11ms/step - loss: 0.6780 - accuracy: 0.7321 - val_loss: 0.7196 - val_accuracy: 0.6842\n",
            "Epoch 27/150\n",
            "4/4 [==============================] - 0s 12ms/step - loss: 0.6479 - accuracy: 0.7321 - val_loss: 0.6973 - val_accuracy: 0.6842\n",
            "Epoch 28/150\n",
            "4/4 [==============================] - 0s 12ms/step - loss: 0.6205 - accuracy: 0.7321 - val_loss: 0.6759 - val_accuracy: 0.6842\n",
            "Epoch 29/150\n",
            "4/4 [==============================] - 0s 13ms/step - loss: 0.5936 - accuracy: 0.7411 - val_loss: 0.6550 - val_accuracy: 0.6842\n",
            "Epoch 30/150\n",
            "4/4 [==============================] - 0s 11ms/step - loss: 0.5705 - accuracy: 0.7411 - val_loss: 0.6343 - val_accuracy: 0.6842\n",
            "Epoch 31/150\n",
            "4/4 [==============================] - 0s 14ms/step - loss: 0.5457 - accuracy: 0.7500 - val_loss: 0.6122 - val_accuracy: 0.6842\n",
            "Epoch 32/150\n",
            "4/4 [==============================] - 0s 12ms/step - loss: 0.5216 - accuracy: 0.7500 - val_loss: 0.5907 - val_accuracy: 0.6842\n",
            "Epoch 33/150\n",
            "4/4 [==============================] - 0s 11ms/step - loss: 0.4991 - accuracy: 0.7500 - val_loss: 0.5701 - val_accuracy: 0.7105\n",
            "Epoch 34/150\n",
            "4/4 [==============================] - 0s 11ms/step - loss: 0.4783 - accuracy: 0.7589 - val_loss: 0.5497 - val_accuracy: 0.7368\n",
            "Epoch 35/150\n",
            "4/4 [==============================] - 0s 11ms/step - loss: 0.4575 - accuracy: 0.7857 - val_loss: 0.5306 - val_accuracy: 0.7632\n",
            "Epoch 36/150\n",
            "4/4 [==============================] - 0s 11ms/step - loss: 0.4386 - accuracy: 0.8304 - val_loss: 0.5136 - val_accuracy: 0.7632\n",
            "Epoch 37/150\n",
            "4/4 [==============================] - 0s 11ms/step - loss: 0.4196 - accuracy: 0.8482 - val_loss: 0.4956 - val_accuracy: 0.7632\n",
            "Epoch 38/150\n",
            "4/4 [==============================] - 0s 11ms/step - loss: 0.4020 - accuracy: 0.8750 - val_loss: 0.4773 - val_accuracy: 0.7632\n",
            "Epoch 39/150\n",
            "4/4 [==============================] - 0s 12ms/step - loss: 0.3841 - accuracy: 0.8839 - val_loss: 0.4627 - val_accuracy: 0.7632\n",
            "Epoch 40/150\n",
            "4/4 [==============================] - 0s 12ms/step - loss: 0.3669 - accuracy: 0.8929 - val_loss: 0.4462 - val_accuracy: 0.8158\n",
            "Epoch 41/150\n",
            "4/4 [==============================] - 0s 17ms/step - loss: 0.3502 - accuracy: 0.9018 - val_loss: 0.4244 - val_accuracy: 0.8684\n",
            "Epoch 42/150\n",
            "4/4 [==============================] - 0s 12ms/step - loss: 0.3339 - accuracy: 0.9196 - val_loss: 0.4062 - val_accuracy: 0.8684\n",
            "Epoch 43/150\n",
            "4/4 [==============================] - 0s 12ms/step - loss: 0.3185 - accuracy: 0.9375 - val_loss: 0.3869 - val_accuracy: 0.8684\n",
            "Epoch 44/150\n",
            "4/4 [==============================] - 0s 12ms/step - loss: 0.3024 - accuracy: 0.9464 - val_loss: 0.3696 - val_accuracy: 0.8684\n",
            "Epoch 45/150\n",
            "4/4 [==============================] - 0s 13ms/step - loss: 0.2878 - accuracy: 0.9375 - val_loss: 0.3525 - val_accuracy: 0.8684\n",
            "Epoch 46/150\n",
            "4/4 [==============================] - 0s 14ms/step - loss: 0.2726 - accuracy: 0.9375 - val_loss: 0.3387 - val_accuracy: 0.8684\n",
            "Epoch 47/150\n",
            "4/4 [==============================] - 0s 11ms/step - loss: 0.2583 - accuracy: 0.9375 - val_loss: 0.3187 - val_accuracy: 0.8684\n",
            "Epoch 48/150\n",
            "4/4 [==============================] - 0s 12ms/step - loss: 0.2450 - accuracy: 0.9464 - val_loss: 0.2957 - val_accuracy: 0.8684\n",
            "Epoch 49/150\n",
            "4/4 [==============================] - 0s 11ms/step - loss: 0.2316 - accuracy: 0.9643 - val_loss: 0.2834 - val_accuracy: 0.8684\n",
            "Epoch 50/150\n",
            "4/4 [==============================] - 0s 12ms/step - loss: 0.2187 - accuracy: 0.9643 - val_loss: 0.2681 - val_accuracy: 0.8684\n",
            "Epoch 51/150\n",
            "4/4 [==============================] - 0s 11ms/step - loss: 0.2067 - accuracy: 0.9643 - val_loss: 0.2531 - val_accuracy: 0.9474\n",
            "Epoch 52/150\n",
            "4/4 [==============================] - 0s 12ms/step - loss: 0.1953 - accuracy: 0.9643 - val_loss: 0.2421 - val_accuracy: 0.9474\n",
            "Epoch 53/150\n",
            "4/4 [==============================] - 0s 11ms/step - loss: 0.1853 - accuracy: 0.9643 - val_loss: 0.2317 - val_accuracy: 0.9474\n",
            "Epoch 54/150\n",
            "4/4 [==============================] - 0s 11ms/step - loss: 0.1749 - accuracy: 0.9643 - val_loss: 0.2119 - val_accuracy: 0.9737\n",
            "Epoch 55/150\n",
            "4/4 [==============================] - 0s 12ms/step - loss: 0.1664 - accuracy: 0.9732 - val_loss: 0.2018 - val_accuracy: 0.9737\n",
            "Epoch 56/150\n",
            "4/4 [==============================] - 0s 12ms/step - loss: 0.1580 - accuracy: 0.9732 - val_loss: 0.1949 - val_accuracy: 0.9737\n",
            "Epoch 57/150\n",
            "4/4 [==============================] - 0s 11ms/step - loss: 0.1514 - accuracy: 0.9643 - val_loss: 0.1943 - val_accuracy: 0.9737\n",
            "Epoch 58/150\n",
            "4/4 [==============================] - 0s 13ms/step - loss: 0.1435 - accuracy: 0.9821 - val_loss: 0.1787 - val_accuracy: 0.9737\n",
            "Epoch 59/150\n",
            "4/4 [==============================] - 0s 11ms/step - loss: 0.1364 - accuracy: 0.9732 - val_loss: 0.1679 - val_accuracy: 0.9737\n",
            "Epoch 60/150\n",
            "4/4 [==============================] - 0s 10ms/step - loss: 0.1306 - accuracy: 0.9732 - val_loss: 0.1679 - val_accuracy: 0.9737\n",
            "Epoch 61/150\n",
            "4/4 [==============================] - 0s 12ms/step - loss: 0.1252 - accuracy: 0.9821 - val_loss: 0.1574 - val_accuracy: 0.9737\n",
            "Epoch 62/150\n",
            "4/4 [==============================] - 0s 11ms/step - loss: 0.1198 - accuracy: 0.9821 - val_loss: 0.1505 - val_accuracy: 0.9737\n",
            "Epoch 63/150\n",
            "4/4 [==============================] - 0s 12ms/step - loss: 0.1159 - accuracy: 0.9732 - val_loss: 0.1427 - val_accuracy: 0.9737\n",
            "Epoch 64/150\n",
            "4/4 [==============================] - 0s 11ms/step - loss: 0.1110 - accuracy: 0.9821 - val_loss: 0.1394 - val_accuracy: 0.9737\n",
            "Epoch 65/150\n",
            "4/4 [==============================] - 0s 11ms/step - loss: 0.1074 - accuracy: 0.9821 - val_loss: 0.1308 - val_accuracy: 0.9737\n",
            "Epoch 66/150\n",
            "4/4 [==============================] - 0s 13ms/step - loss: 0.1044 - accuracy: 0.9821 - val_loss: 0.1236 - val_accuracy: 0.9737\n",
            "Epoch 67/150\n",
            "4/4 [==============================] - 0s 16ms/step - loss: 0.1003 - accuracy: 0.9821 - val_loss: 0.1228 - val_accuracy: 0.9737\n",
            "Epoch 68/150\n",
            "4/4 [==============================] - 0s 11ms/step - loss: 0.0973 - accuracy: 0.9821 - val_loss: 0.1200 - val_accuracy: 0.9737\n",
            "Epoch 69/150\n",
            "4/4 [==============================] - 0s 11ms/step - loss: 0.0951 - accuracy: 0.9911 - val_loss: 0.1182 - val_accuracy: 0.9737\n",
            "Epoch 70/150\n",
            "4/4 [==============================] - 0s 12ms/step - loss: 0.0924 - accuracy: 0.9821 - val_loss: 0.1098 - val_accuracy: 0.9737\n",
            "Epoch 71/150\n",
            "4/4 [==============================] - 0s 12ms/step - loss: 0.0898 - accuracy: 0.9821 - val_loss: 0.1067 - val_accuracy: 0.9737\n",
            "Epoch 72/150\n",
            "4/4 [==============================] - 0s 12ms/step - loss: 0.0874 - accuracy: 0.9821 - val_loss: 0.1064 - val_accuracy: 0.9737\n",
            "Epoch 73/150\n",
            "4/4 [==============================] - 0s 11ms/step - loss: 0.0858 - accuracy: 0.9911 - val_loss: 0.1109 - val_accuracy: 0.9737\n",
            "Epoch 74/150\n",
            "4/4 [==============================] - 0s 12ms/step - loss: 0.0839 - accuracy: 0.9911 - val_loss: 0.1001 - val_accuracy: 0.9737\n",
            "Epoch 75/150\n",
            "4/4 [==============================] - 0s 12ms/step - loss: 0.0838 - accuracy: 0.9821 - val_loss: 0.0853 - val_accuracy: 0.9737\n",
            "Epoch 76/150\n",
            "4/4 [==============================] - 0s 12ms/step - loss: 0.0824 - accuracy: 0.9821 - val_loss: 0.0839 - val_accuracy: 0.9737\n",
            "Epoch 77/150\n",
            "4/4 [==============================] - 0s 11ms/step - loss: 0.0787 - accuracy: 0.9911 - val_loss: 0.0988 - val_accuracy: 0.9737\n",
            "Epoch 78/150\n",
            "4/4 [==============================] - 0s 12ms/step - loss: 0.0788 - accuracy: 0.9911 - val_loss: 0.1012 - val_accuracy: 0.9737\n",
            "Epoch 79/150\n",
            "4/4 [==============================] - 0s 15ms/step - loss: 0.0761 - accuracy: 0.9911 - val_loss: 0.0865 - val_accuracy: 0.9737\n",
            "Epoch 80/150\n",
            "4/4 [==============================] - 0s 12ms/step - loss: 0.0741 - accuracy: 0.9821 - val_loss: 0.0763 - val_accuracy: 0.9737\n",
            "Epoch 81/150\n",
            "4/4 [==============================] - 0s 12ms/step - loss: 0.0719 - accuracy: 0.9821 - val_loss: 0.0808 - val_accuracy: 0.9737\n",
            "Epoch 82/150\n",
            "4/4 [==============================] - 0s 11ms/step - loss: 0.0715 - accuracy: 0.9911 - val_loss: 0.0857 - val_accuracy: 0.9737\n",
            "Epoch 83/150\n",
            "4/4 [==============================] - 0s 12ms/step - loss: 0.0717 - accuracy: 0.9911 - val_loss: 0.0751 - val_accuracy: 0.9737\n",
            "Epoch 84/150\n",
            "4/4 [==============================] - 0s 12ms/step - loss: 0.0684 - accuracy: 0.9911 - val_loss: 0.0767 - val_accuracy: 0.9737\n",
            "Epoch 85/150\n",
            "4/4 [==============================] - 0s 11ms/step - loss: 0.0680 - accuracy: 0.9911 - val_loss: 0.0745 - val_accuracy: 0.9737\n",
            "Epoch 86/150\n",
            "4/4 [==============================] - 0s 10ms/step - loss: 0.0675 - accuracy: 0.9821 - val_loss: 0.0636 - val_accuracy: 0.9737\n",
            "Epoch 87/150\n",
            "4/4 [==============================] - 0s 11ms/step - loss: 0.0653 - accuracy: 0.9821 - val_loss: 0.0692 - val_accuracy: 0.9737\n",
            "Epoch 88/150\n",
            "4/4 [==============================] - 0s 13ms/step - loss: 0.0636 - accuracy: 0.9911 - val_loss: 0.0784 - val_accuracy: 0.9737\n",
            "Epoch 89/150\n",
            "4/4 [==============================] - 0s 11ms/step - loss: 0.0638 - accuracy: 0.9911 - val_loss: 0.0820 - val_accuracy: 0.9737\n",
            "Epoch 90/150\n",
            "4/4 [==============================] - 0s 13ms/step - loss: 0.0640 - accuracy: 0.9911 - val_loss: 0.0706 - val_accuracy: 0.9737\n",
            "Epoch 91/150\n",
            "4/4 [==============================] - 0s 12ms/step - loss: 0.0623 - accuracy: 0.9911 - val_loss: 0.0635 - val_accuracy: 0.9737\n",
            "Epoch 92/150\n",
            "4/4 [==============================] - 0s 13ms/step - loss: 0.0609 - accuracy: 0.9911 - val_loss: 0.0685 - val_accuracy: 0.9737\n",
            "Epoch 93/150\n",
            "4/4 [==============================] - 0s 11ms/step - loss: 0.0599 - accuracy: 0.9911 - val_loss: 0.0644 - val_accuracy: 0.9737\n",
            "Epoch 94/150\n",
            "4/4 [==============================] - 0s 17ms/step - loss: 0.0589 - accuracy: 0.9911 - val_loss: 0.0630 - val_accuracy: 0.9737\n",
            "Epoch 95/150\n",
            "4/4 [==============================] - 0s 12ms/step - loss: 0.0587 - accuracy: 0.9911 - val_loss: 0.0608 - val_accuracy: 0.9737\n",
            "Epoch 96/150\n",
            "4/4 [==============================] - 0s 11ms/step - loss: 0.0578 - accuracy: 0.9911 - val_loss: 0.0616 - val_accuracy: 0.9737\n",
            "Epoch 97/150\n",
            "4/4 [==============================] - 0s 12ms/step - loss: 0.0582 - accuracy: 0.9911 - val_loss: 0.0627 - val_accuracy: 0.9737\n",
            "Epoch 98/150\n",
            "4/4 [==============================] - 0s 12ms/step - loss: 0.0562 - accuracy: 0.9911 - val_loss: 0.0540 - val_accuracy: 0.9737\n",
            "Epoch 99/150\n",
            "4/4 [==============================] - 0s 11ms/step - loss: 0.0561 - accuracy: 0.9911 - val_loss: 0.0537 - val_accuracy: 0.9737\n",
            "Epoch 100/150\n",
            "4/4 [==============================] - 0s 11ms/step - loss: 0.0551 - accuracy: 0.9911 - val_loss: 0.0534 - val_accuracy: 0.9737\n",
            "Epoch 101/150\n",
            "4/4 [==============================] - 0s 11ms/step - loss: 0.0554 - accuracy: 0.9911 - val_loss: 0.0557 - val_accuracy: 0.9737\n",
            "Epoch 102/150\n",
            "4/4 [==============================] - 0s 13ms/step - loss: 0.0531 - accuracy: 0.9911 - val_loss: 0.0664 - val_accuracy: 0.9737\n",
            "Epoch 103/150\n",
            "4/4 [==============================] - 0s 15ms/step - loss: 0.0561 - accuracy: 0.9911 - val_loss: 0.0719 - val_accuracy: 0.9737\n",
            "Epoch 104/150\n",
            "4/4 [==============================] - 0s 14ms/step - loss: 0.0559 - accuracy: 0.9911 - val_loss: 0.0641 - val_accuracy: 0.9737\n",
            "Epoch 105/150\n",
            "4/4 [==============================] - 0s 12ms/step - loss: 0.0541 - accuracy: 0.9911 - val_loss: 0.0611 - val_accuracy: 0.9737\n",
            "Epoch 106/150\n",
            "4/4 [==============================] - 0s 11ms/step - loss: 0.0527 - accuracy: 0.9911 - val_loss: 0.0602 - val_accuracy: 0.9737\n",
            "Epoch 107/150\n",
            "4/4 [==============================] - 0s 11ms/step - loss: 0.0533 - accuracy: 0.9911 - val_loss: 0.0567 - val_accuracy: 0.9737\n",
            "Epoch 108/150\n",
            "4/4 [==============================] - 0s 15ms/step - loss: 0.0590 - accuracy: 0.9821 - val_loss: 0.0390 - val_accuracy: 0.9737\n",
            "Epoch 109/150\n",
            "4/4 [==============================] - 0s 13ms/step - loss: 0.0532 - accuracy: 0.9821 - val_loss: 0.0450 - val_accuracy: 0.9737\n",
            "Epoch 110/150\n",
            "4/4 [==============================] - 0s 12ms/step - loss: 0.0488 - accuracy: 0.9911 - val_loss: 0.0584 - val_accuracy: 0.9737\n",
            "Epoch 111/150\n",
            "4/4 [==============================] - 0s 14ms/step - loss: 0.0504 - accuracy: 0.9911 - val_loss: 0.0623 - val_accuracy: 0.9737\n",
            "Epoch 112/150\n",
            "4/4 [==============================] - 0s 12ms/step - loss: 0.0507 - accuracy: 0.9911 - val_loss: 0.0598 - val_accuracy: 0.9737\n",
            "Epoch 113/150\n",
            "4/4 [==============================] - 0s 11ms/step - loss: 0.0495 - accuracy: 0.9911 - val_loss: 0.0502 - val_accuracy: 0.9737\n",
            "Epoch 114/150\n",
            "4/4 [==============================] - 0s 11ms/step - loss: 0.0476 - accuracy: 0.9911 - val_loss: 0.0455 - val_accuracy: 0.9737\n",
            "Epoch 115/150\n",
            "4/4 [==============================] - 0s 11ms/step - loss: 0.0484 - accuracy: 0.9911 - val_loss: 0.0427 - val_accuracy: 0.9737\n",
            "Epoch 116/150\n",
            "4/4 [==============================] - 0s 11ms/step - loss: 0.0479 - accuracy: 0.9911 - val_loss: 0.0439 - val_accuracy: 0.9737\n",
            "Epoch 117/150\n",
            "4/4 [==============================] - 0s 13ms/step - loss: 0.0472 - accuracy: 0.9911 - val_loss: 0.0493 - val_accuracy: 0.9737\n",
            "Epoch 118/150\n",
            "4/4 [==============================] - 0s 14ms/step - loss: 0.0466 - accuracy: 0.9911 - val_loss: 0.0481 - val_accuracy: 0.9737\n",
            "Epoch 119/150\n",
            "4/4 [==============================] - 0s 12ms/step - loss: 0.0495 - accuracy: 0.9911 - val_loss: 0.0530 - val_accuracy: 0.9737\n",
            "Epoch 120/150\n",
            "4/4 [==============================] - 0s 13ms/step - loss: 0.0462 - accuracy: 0.9911 - val_loss: 0.0396 - val_accuracy: 0.9737\n",
            "Epoch 121/150\n",
            "4/4 [==============================] - 0s 12ms/step - loss: 0.0500 - accuracy: 0.9821 - val_loss: 0.0375 - val_accuracy: 0.9737\n",
            "Epoch 122/150\n",
            "4/4 [==============================] - 0s 11ms/step - loss: 0.0472 - accuracy: 0.9821 - val_loss: 0.0546 - val_accuracy: 0.9737\n",
            "Epoch 123/150\n",
            "4/4 [==============================] - 0s 11ms/step - loss: 0.0459 - accuracy: 0.9911 - val_loss: 0.0593 - val_accuracy: 0.9737\n",
            "Epoch 124/150\n",
            "4/4 [==============================] - 0s 12ms/step - loss: 0.0465 - accuracy: 0.9911 - val_loss: 0.0495 - val_accuracy: 0.9737\n",
            "Epoch 125/150\n",
            "4/4 [==============================] - 0s 11ms/step - loss: 0.0445 - accuracy: 0.9911 - val_loss: 0.0415 - val_accuracy: 0.9737\n",
            "Epoch 126/150\n",
            "4/4 [==============================] - 0s 13ms/step - loss: 0.0439 - accuracy: 0.9911 - val_loss: 0.0410 - val_accuracy: 0.9737\n",
            "Epoch 127/150\n",
            "4/4 [==============================] - 0s 11ms/step - loss: 0.0436 - accuracy: 0.9911 - val_loss: 0.0433 - val_accuracy: 0.9737\n",
            "Epoch 128/150\n",
            "4/4 [==============================] - 0s 15ms/step - loss: 0.0438 - accuracy: 0.9911 - val_loss: 0.0454 - val_accuracy: 0.9737\n",
            "Epoch 129/150\n",
            "4/4 [==============================] - 0s 19ms/step - loss: 0.0426 - accuracy: 0.9911 - val_loss: 0.0410 - val_accuracy: 0.9737\n",
            "Epoch 130/150\n",
            "4/4 [==============================] - 0s 11ms/step - loss: 0.0428 - accuracy: 0.9911 - val_loss: 0.0388 - val_accuracy: 0.9737\n",
            "Epoch 131/150\n",
            "4/4 [==============================] - 0s 12ms/step - loss: 0.0435 - accuracy: 0.9911 - val_loss: 0.0417 - val_accuracy: 0.9737\n",
            "Epoch 132/150\n",
            "4/4 [==============================] - 0s 12ms/step - loss: 0.0422 - accuracy: 0.9911 - val_loss: 0.0377 - val_accuracy: 0.9737\n",
            "Epoch 133/150\n",
            "4/4 [==============================] - 0s 11ms/step - loss: 0.0425 - accuracy: 0.9911 - val_loss: 0.0390 - val_accuracy: 0.9737\n",
            "Epoch 134/150\n",
            "4/4 [==============================] - 0s 13ms/step - loss: 0.0427 - accuracy: 0.9911 - val_loss: 0.0456 - val_accuracy: 0.9737\n",
            "Epoch 135/150\n",
            "4/4 [==============================] - 0s 11ms/step - loss: 0.0425 - accuracy: 0.9911 - val_loss: 0.0480 - val_accuracy: 0.9737\n",
            "Epoch 136/150\n",
            "4/4 [==============================] - 0s 11ms/step - loss: 0.0412 - accuracy: 0.9911 - val_loss: 0.0458 - val_accuracy: 0.9737\n",
            "Epoch 137/150\n",
            "4/4 [==============================] - 0s 12ms/step - loss: 0.0414 - accuracy: 0.9911 - val_loss: 0.0450 - val_accuracy: 0.9737\n",
            "Epoch 138/150\n",
            "4/4 [==============================] - 0s 12ms/step - loss: 0.0395 - accuracy: 0.9911 - val_loss: 0.0368 - val_accuracy: 0.9737\n",
            "Epoch 139/150\n",
            "4/4 [==============================] - 0s 11ms/step - loss: 0.0419 - accuracy: 0.9911 - val_loss: 0.0331 - val_accuracy: 0.9737\n",
            "Epoch 140/150\n",
            "4/4 [==============================] - 0s 11ms/step - loss: 0.0400 - accuracy: 0.9911 - val_loss: 0.0404 - val_accuracy: 0.9737\n",
            "Epoch 141/150\n",
            "4/4 [==============================] - 0s 12ms/step - loss: 0.0427 - accuracy: 0.9911 - val_loss: 0.0506 - val_accuracy: 0.9737\n",
            "Epoch 142/150\n",
            "4/4 [==============================] - 0s 12ms/step - loss: 0.0424 - accuracy: 0.9911 - val_loss: 0.0399 - val_accuracy: 0.9737\n",
            "Epoch 143/150\n",
            "4/4 [==============================] - 0s 14ms/step - loss: 0.0397 - accuracy: 0.9911 - val_loss: 0.0363 - val_accuracy: 0.9737\n",
            "Epoch 144/150\n",
            "4/4 [==============================] - 0s 11ms/step - loss: 0.0387 - accuracy: 0.9911 - val_loss: 0.0413 - val_accuracy: 0.9737\n",
            "Epoch 145/150\n",
            "4/4 [==============================] - 0s 11ms/step - loss: 0.0391 - accuracy: 0.9911 - val_loss: 0.0449 - val_accuracy: 0.9737\n",
            "Epoch 146/150\n",
            "4/4 [==============================] - 0s 12ms/step - loss: 0.0385 - accuracy: 0.9911 - val_loss: 0.0420 - val_accuracy: 0.9737\n",
            "Epoch 147/150\n",
            "4/4 [==============================] - 0s 11ms/step - loss: 0.0381 - accuracy: 0.9911 - val_loss: 0.0374 - val_accuracy: 0.9737\n",
            "Epoch 148/150\n",
            "4/4 [==============================] - 0s 16ms/step - loss: 0.0376 - accuracy: 0.9911 - val_loss: 0.0358 - val_accuracy: 0.9737\n",
            "Epoch 149/150\n",
            "4/4 [==============================] - 0s 12ms/step - loss: 0.0375 - accuracy: 0.9911 - val_loss: 0.0359 - val_accuracy: 0.9737\n",
            "Epoch 150/150\n",
            "4/4 [==============================] - 0s 11ms/step - loss: 0.0377 - accuracy: 0.9911 - val_loss: 0.0388 - val_accuracy: 0.9737\n"
          ]
        }
      ]
    },
    {
      "cell_type": "code",
      "source": [
        "hist.history.keys()"
      ],
      "metadata": {
        "colab": {
          "base_uri": "https://localhost:8080/"
        },
        "id": "GvE1yuHZbY9p",
        "outputId": "08a34060-2919-451d-ae7b-fbc413247f74"
      },
      "execution_count": 38,
      "outputs": [
        {
          "output_type": "execute_result",
          "data": {
            "text/plain": [
              "dict_keys(['loss', 'accuracy', 'val_loss', 'val_accuracy'])"
            ]
          },
          "metadata": {},
          "execution_count": 38
        }
      ]
    },
    {
      "cell_type": "code",
      "source": [
        "plt.plot(hist.history['loss'] , label = 'train_loss')\n",
        "plt.plot(hist.history['val_loss'] , label = 'test_loss')\n",
        "plt.legend()\n",
        "plt.show()"
      ],
      "metadata": {
        "colab": {
          "base_uri": "https://localhost:8080/",
          "height": 265
        },
        "id": "WjY7tC-f6tO6",
        "outputId": "ba4893d5-50e6-433e-fa02-bebd2f99fc18"
      },
      "execution_count": 41,
      "outputs": [
        {
          "output_type": "display_data",
          "data": {
            "text/plain": [
              "<Figure size 432x288 with 1 Axes>"
            ],
            "image/png": "[encoded data removed]"
          },
          "metadata": {
            "needs_background": "light"
          }
        }
      ]
    },
    {
      "cell_type": "code",
      "source": [
        "plt.plot(hist.history['accuracy'] , label = 'accuracy')\n",
        "plt.plot(hist.history['val_accuracy'] , label = 'val_accuracy')\n",
        "plt.legend()\n",
        "plt.show()"
      ],
      "metadata": {
        "colab": {
          "base_uri": "https://localhost:8080/",
          "height": 265
        },
        "id": "lhZ1YxsV6tWI",
        "outputId": "6f9aac65-3145-4164-a69b-6454534c86d0"
      },
      "execution_count": 42,
      "outputs": [
        {
          "output_type": "display_data",
          "data": {
            "text/plain": [
              "<Figure size 432x288 with 1 Axes>"
            ],
            "image/png": "[encoded data removed]"
          },
          "metadata": {
            "needs_background": "light"
          }
        }
      ]
    },
    {
      "cell_type": "code",
      "source": [],
      "metadata": {
        "id": "MVpP2f2Z6taK"
      },
      "execution_count": null,
      "outputs": []
    }
  ]
}
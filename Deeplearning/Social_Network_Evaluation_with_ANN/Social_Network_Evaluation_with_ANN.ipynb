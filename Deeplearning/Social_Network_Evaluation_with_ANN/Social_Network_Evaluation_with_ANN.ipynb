{
  "nbformat": 4,
  "nbformat_minor": 0,
  "metadata": {
    "colab": {
      "provenance": []
    },
    "kernelspec": {
      "name": "python3",
      "display_name": "Python 3"
    },
    "language_info": {
      "name": "python"
    }
  },
  "cells": [
    {
      "cell_type": "code",
      "execution_count": 1,
      "metadata": {
        "id": "f1cfQ3FJ7kHG"
      },
      "outputs": [],
      "source": [
        "import numpy as np\n",
        "import pandas as pd\n",
        "import tensorflow as tf\n",
        "import matplotlib.pyplot as plt"
      ]
    },
    {
      "cell_type": "code",
      "source": [
        "data = pd.read_csv('Social_Network_Ads (2).csv')"
      ],
      "metadata": {
        "id": "qRAx4RQW8j0b"
      },
      "execution_count": 2,
      "outputs": []
    },
    {
      "cell_type": "code",
      "source": [
        "data.head()"
      ],
      "metadata": {
        "colab": {
          "base_uri": "https://localhost:8080/",
          "height": 206
        },
        "id": "kQVUnC9z8j4I",
        "outputId": "9cebe28b-d6be-4548-b071-86ea443f509e"
      },
      "execution_count": 3,
      "outputs": [
        {
          "output_type": "execute_result",
          "data": {
            "text/plain": [
              "    User ID  Gender  Age  EstimatedSalary  Purchased\n",
              "0  15624510    Male   19            19000          0\n",
              "1  15810944    Male   35            20000          0\n",
              "2  15668575  Female   26            43000          0\n",
              "3  15603246  Female   27            57000          0\n",
              "4  15804002    Male   19            76000          0"
            ],
            "text/html": [
              "\n",
              "  <div id=\"df-73eae831-b38d-4b73-a195-b7145b7fc4dd\">\n",
              "    <div class=\"colab-df-container\">\n",
              "      <div>\n",
              "<style scoped>\n",
              "    .dataframe tbody tr th:only-of-type {\n",
              "        vertical-align: middle;\n",
              "    }\n",
              "\n",
              "    .dataframe tbody tr th {\n",
              "        vertical-align: top;\n",
              "    }\n",
              "\n",
              "    .dataframe thead th {\n",
              "        text-align: right;\n",
              "    }\n",
              "</style>\n",
              "<table border=\"1\" class=\"dataframe\">\n",
              "  <thead>\n",
              "    <tr style=\"text-align: right;\">\n",
              "      <th></th>\n",
              "      <th>User ID</th>\n",
              "      <th>Gender</th>\n",
              "      <th>Age</th>\n",
              "      <th>EstimatedSalary</th>\n",
              "      <th>Purchased</th>\n",
              "    </tr>\n",
              "  </thead>\n",
              "  <tbody>\n",
              "    <tr>\n",
              "      <th>0</th>\n",
              "      <td>15624510</td>\n",
              "      <td>Male</td>\n",
              "      <td>19</td>\n",
              "      <td>19000</td>\n",
              "      <td>0</td>\n",
              "    </tr>\n",
              "    <tr>\n",
              "      <th>1</th>\n",
              "      <td>15810944</td>\n",
              "      <td>Male</td>\n",
              "      <td>35</td>\n",
              "      <td>20000</td>\n",
              "      <td>0</td>\n",
              "    </tr>\n",
              "    <tr>\n",
              "      <th>2</th>\n",
              "      <td>15668575</td>\n",
              "      <td>Female</td>\n",
              "      <td>26</td>\n",
              "      <td>43000</td>\n",
              "      <td>0</td>\n",
              "    </tr>\n",
              "    <tr>\n",
              "      <th>3</th>\n",
              "      <td>15603246</td>\n",
              "      <td>Female</td>\n",
              "      <td>27</td>\n",
              "      <td>57000</td>\n",
              "      <td>0</td>\n",
              "    </tr>\n",
              "    <tr>\n",
              "      <th>4</th>\n",
              "      <td>15804002</td>\n",
              "      <td>Male</td>\n",
              "      <td>19</td>\n",
              "      <td>76000</td>\n",
              "      <td>0</td>\n",
              "    </tr>\n",
              "  </tbody>\n",
              "</table>\n",
              "</div>\n",
              "      <button class=\"colab-df-convert\" onclick=\"convertToInteractive('df-73eae831-b38d-4b73-a195-b7145b7fc4dd')\"\n",
              "              title=\"Convert this dataframe to an interactive table.\"\n",
              "              style=\"display:none;\">\n",
              "        \n",
              "  <svg xmlns=\"http://www.w3.org/2000/svg\" height=\"24px\"viewBox=\"0 0 24 24\"\n",
              "       width=\"24px\">\n",
              "    <path d=\"M0 0h24v24H0V0z\" fill=\"none\"/>\n",
              "    <path d=\"M18.56 5.44l.94 2.06.94-2.06 2.06-.94-2.06-.94-.94-2.06-.94 2.06-2.06.94zm-11 1L8.5 8.5l.94-2.06 2.06-.94-2.06-.94L8.5 2.5l-.94 2.06-2.06.94zm10 10l.94 2.06.94-2.06 2.06-.94-2.06-.94-.94-2.06-.94 2.06-2.06.94z\"/><path d=\"M17.41 7.96l-1.37-1.37c-.4-.4-.92-.59-1.43-.59-.52 0-1.04.2-1.43.59L10.3 9.45l-7.72 7.72c-.78.78-.78 2.05 0 2.83L4 21.41c.39.39.9.59 1.41.59.51 0 1.02-.2 1.41-.59l7.78-7.78 2.81-2.81c.8-.78.8-2.07 0-2.86zM5.41 20L4 18.59l7.72-7.72 1.47 1.35L5.41 20z\"/>\n",
              "  </svg>\n",
              "      </button>\n",
              "      \n",
              "  <style>\n",
              "    .colab-df-container {\n",
              "      display:flex;\n",
              "      flex-wrap:wrap;\n",
              "      gap: 12px;\n",
              "    }\n",
              "\n",
              "    .colab-df-convert {\n",
              "      background-color: #E8F0FE;\n",
              "      border: none;\n",
              "      border-radius: 50%;\n",
              "      cursor: pointer;\n",
              "      display: none;\n",
              "      fill: #1967D2;\n",
              "      height: 32px;\n",
              "      padding: 0 0 0 0;\n",
              "      width: 32px;\n",
              "    }\n",
              "\n",
              "    .colab-df-convert:hover {\n",
              "      background-color: #E2EBFA;\n",
              "      box-shadow: 0px 1px 2px rgba(60, 64, 67, 0.3), 0px 1px 3px 1px rgba(60, 64, 67, 0.15);\n",
              "      fill: #174EA6;\n",
              "    }\n",
              "\n",
              "    [theme=dark] .colab-df-convert {\n",
              "      background-color: #3B4455;\n",
              "      fill: #D2E3FC;\n",
              "    }\n",
              "\n",
              "    [theme=dark] .colab-df-convert:hover {\n",
              "      background-color: #434B5C;\n",
              "      box-shadow: 0px 1px 3px 1px rgba(0, 0, 0, 0.15);\n",
              "      filter: drop-shadow(0px 1px 2px rgba(0, 0, 0, 0.3));\n",
              "      fill: #FFFFFF;\n",
              "    }\n",
              "  </style>\n",
              "\n",
              "      <script>\n",
              "        const buttonEl =\n",
              "          document.querySelector('#df-73eae831-b38d-4b73-a195-b7145b7fc4dd button.colab-df-convert');\n",
              "        buttonEl.style.display =\n",
              "          google.colab.kernel.accessAllowed ? 'block' : 'none';\n",
              "\n",
              "        async function convertToInteractive(key) {\n",
              "          const element = document.querySelector('#df-73eae831-b38d-4b73-a195-b7145b7fc4dd');\n",
              "          const dataTable =\n",
              "            await google.colab.kernel.invokeFunction('convertToInteractive',\n",
              "                                                     [key], {});\n",
              "          if (!dataTable) return;\n",
              "\n",
              "          const docLinkHtml = 'Like what you see? Visit the ' +\n",
              "            '<a target=\"_blank\" href=https://colab.research.google.com/notebooks/data_table.ipynb>data table notebook</a>'\n",
              "            + ' to learn more about interactive tables.';\n",
              "          element.innerHTML = '';\n",
              "          dataTable['output_type'] = 'display_data';\n",
              "          await google.colab.output.renderOutput(dataTable, element);\n",
              "          const docLink = document.createElement('div');\n",
              "          docLink.innerHTML = docLinkHtml;\n",
              "          element.appendChild(docLink);\n",
              "        }\n",
              "      </script>\n",
              "    </div>\n",
              "  </div>\n",
              "  "
            ]
          },
          "metadata": {},
          "execution_count": 3
        }
      ]
    },
    {
      "cell_type": "code",
      "source": [
        "x = data.iloc[: ,[2,3]]"
      ],
      "metadata": {
        "id": "HqoCDDF48j_B"
      },
      "execution_count": 4,
      "outputs": []
    },
    {
      "cell_type": "code",
      "source": [
        "from sklearn.preprocessing import StandardScaler "
      ],
      "metadata": {
        "id": "98OrNYz0Lpmi"
      },
      "execution_count": 5,
      "outputs": []
    },
    {
      "cell_type": "code",
      "source": [
        "scaleobj =StandardScaler()"
      ],
      "metadata": {
        "id": "Cu3cc9PSL39J"
      },
      "execution_count": 6,
      "outputs": []
    },
    {
      "cell_type": "code",
      "source": [
        "scsledX = scaleobj.fit_transform(x)"
      ],
      "metadata": {
        "id": "2fQGPe__MBDc"
      },
      "execution_count": 7,
      "outputs": []
    },
    {
      "cell_type": "code",
      "source": [
        "y = data.iloc[: ,[4]]"
      ],
      "metadata": {
        "id": "ujzEoha38kDV"
      },
      "execution_count": 8,
      "outputs": []
    },
    {
      "cell_type": "code",
      "source": [
        "from sklearn.model_selection import train_test_split\n",
        "xtrain , xtest , ytrain , ytest = train_test_split(scsledX,y,test_size = 0.3 , random_state = 1)"
      ],
      "metadata": {
        "id": "kBh4wcQqCSxx"
      },
      "execution_count": 9,
      "outputs": []
    },
    {
      "cell_type": "code",
      "source": [
        "import seaborn as sns"
      ],
      "metadata": {
        "id": "sAu9qdEe-bqZ"
      },
      "execution_count": 10,
      "outputs": []
    },
    {
      "cell_type": "code",
      "source": [
        "for i in x.columns :\n",
        "  sns.boxplot(x[i])\n",
        "  plt.show()"
      ],
      "metadata": {
        "colab": {
          "base_uri": "https://localhost:8080/",
          "height": 630
        },
        "id": "yqLxPLcH8kHc",
        "outputId": "f294bd80-ad8e-4fdf-f5f3-d065d5a2a78d"
      },
      "execution_count": 11,
      "outputs": [
        {
          "output_type": "stream",
          "name": "stderr",
          "text": [
            "/usr/local/lib/python3.7/dist-packages/seaborn/_decorators.py:43: FutureWarning: Pass the following variable as a keyword arg: x. From version 0.12, the only valid positional argument will be `data`, and passing other arguments without an explicit keyword will result in an error or misinterpretation.\n",
            "  FutureWarning\n"
          ]
        },
        {
          "output_type": "display_data",
          "data": {
            "text/plain": [
              "<Figure size 432x288 with 1 Axes>"
            ],
            "image/png": "[encoded data removed]"
          },
          "metadata": {
            "needs_background": "light"
          }
        },
        {
          "output_type": "stream",
          "name": "stderr",
          "text": [
            "/usr/local/lib/python3.7/dist-packages/seaborn/_decorators.py:43: FutureWarning: Pass the following variable as a keyword arg: x. From version 0.12, the only valid positional argument will be `data`, and passing other arguments without an explicit keyword will result in an error or misinterpretation.\n",
            "  FutureWarning\n"
          ]
        },
        {
          "output_type": "display_data",
          "data": {
            "text/plain": [
              "<Figure size 432x288 with 1 Axes>"
            ],
            "image/png": "[encoded data removed]"
          },
          "metadata": {
            "needs_background": "light"
          }
        }
      ]
    },
    {
      "cell_type": "code",
      "source": [
        "mod = tf.keras.models.Sequential()"
      ],
      "metadata": {
        "id": "bWVqtU5t8kLK"
      },
      "execution_count": 12,
      "outputs": []
    },
    {
      "cell_type": "code",
      "source": [
        "mod.add(tf.keras.layers.Dense(units = 20 , activation = 'relu' , input_shape = (2,)))"
      ],
      "metadata": {
        "id": "CCCuBiXzGgSI"
      },
      "execution_count": 13,
      "outputs": []
    },
    {
      "cell_type": "code",
      "source": [
        "\n",
        "\n",
        "# Hl -2\n",
        "mod.add(tf.keras.layers.Dense(units = 10, activation = 'relu'))\n",
        "mod.add(tf.keras.layers.Dense(units = 10, activation = 'relu'))\n",
        "mod.add(tf.keras.layers.Dense(units = 10, activation = 'relu'))\n",
        "mod.add(tf.keras.layers.Dense(units = 10, activation = 'relu'))\n",
        "mod.add(tf.keras.layers.Dense(units = 10, activation = 'relu'))\n",
        "mod.add(tf.keras.layers.Dense(units = 10, activation = 'relu'))\n",
        "mod.add(tf.keras.layers.Dense(units = 5, activation = 'relu'))\n",
        "# Hl - 3\n",
        "mod.add(tf.keras.layers.Dense(units = 5, activation = 'relu'))\n",
        "# output layer \n",
        "mod.add(tf.keras.layers.Dense(units = 1, activation = 'sigmoid'))"
      ],
      "metadata": {
        "id": "w862JWsFGY9j"
      },
      "execution_count": 14,
      "outputs": []
    },
    {
      "cell_type": "code",
      "source": [
        "mod.compile(optimizer=\"adam\",\n",
        "              loss = \"binary_crossentropy\",\n",
        "              metrics = [\"accuracy\"])"
      ],
      "metadata": {
        "id": "zbrxUkVf-hO0"
      },
      "execution_count": 15,
      "outputs": []
    },
    {
      "cell_type": "code",
      "source": [
        "mod_hist =mod.fit(xtrain  ,  ytrain , epochs = 150 , validation_data= [xtest ,ytest] , batch_size = 40)"
      ],
      "metadata": {
        "colab": {
          "base_uri": "https://localhost:8080/"
        },
        "id": "T37k55CmCKee",
        "outputId": "13b0d66c-73aa-4527-cae6-593a3437251d"
      },
      "execution_count": 16,
      "outputs": [
        {
          "output_type": "stream",
          "name": "stdout",
          "text": [
            "Epoch 1/150\n",
            "7/7 [==============================] - 2s 79ms/step - loss: 0.6921 - accuracy: 0.6464 - val_loss: 0.6915 - val_accuracy: 0.6000\n",
            "Epoch 2/150\n",
            "7/7 [==============================] - 0s 14ms/step - loss: 0.6882 - accuracy: 0.6607 - val_loss: 0.6894 - val_accuracy: 0.6000\n",
            "Epoch 3/150\n",
            "7/7 [==============================] - 0s 12ms/step - loss: 0.6844 - accuracy: 0.6607 - val_loss: 0.6865 - val_accuracy: 0.6000\n",
            "Epoch 4/150\n",
            "7/7 [==============================] - 0s 13ms/step - loss: 0.6791 - accuracy: 0.6607 - val_loss: 0.6826 - val_accuracy: 0.6000\n",
            "Epoch 5/150\n",
            "7/7 [==============================] - 0s 15ms/step - loss: 0.6716 - accuracy: 0.6607 - val_loss: 0.6768 - val_accuracy: 0.6000\n",
            "Epoch 6/150\n",
            "7/7 [==============================] - 0s 17ms/step - loss: 0.6605 - accuracy: 0.6607 - val_loss: 0.6680 - val_accuracy: 0.6000\n",
            "Epoch 7/150\n",
            "7/7 [==============================] - 0s 14ms/step - loss: 0.6435 - accuracy: 0.6607 - val_loss: 0.6548 - val_accuracy: 0.6000\n",
            "Epoch 8/150\n",
            "7/7 [==============================] - 0s 22ms/step - loss: 0.6198 - accuracy: 0.6607 - val_loss: 0.6361 - val_accuracy: 0.6000\n",
            "Epoch 9/150\n",
            "7/7 [==============================] - 0s 14ms/step - loss: 0.5868 - accuracy: 0.6607 - val_loss: 0.6116 - val_accuracy: 0.6000\n",
            "Epoch 10/150\n",
            "7/7 [==============================] - 0s 15ms/step - loss: 0.5478 - accuracy: 0.6607 - val_loss: 0.5842 - val_accuracy: 0.6000\n",
            "Epoch 11/150\n",
            "7/7 [==============================] - 0s 18ms/step - loss: 0.5072 - accuracy: 0.6607 - val_loss: 0.5585 - val_accuracy: 0.6000\n",
            "Epoch 12/150\n",
            "7/7 [==============================] - 0s 30ms/step - loss: 0.4742 - accuracy: 0.6607 - val_loss: 0.5363 - val_accuracy: 0.6000\n",
            "Epoch 13/150\n",
            "7/7 [==============================] - 0s 15ms/step - loss: 0.4465 - accuracy: 0.6607 - val_loss: 0.5144 - val_accuracy: 0.6083\n",
            "Epoch 14/150\n",
            "7/7 [==============================] - 0s 16ms/step - loss: 0.4213 - accuracy: 0.7536 - val_loss: 0.4916 - val_accuracy: 0.6583\n",
            "Epoch 15/150\n",
            "7/7 [==============================] - 0s 32ms/step - loss: 0.4012 - accuracy: 0.8214 - val_loss: 0.4717 - val_accuracy: 0.7583\n",
            "Epoch 16/150\n",
            "7/7 [==============================] - 0s 11ms/step - loss: 0.3784 - accuracy: 0.8536 - val_loss: 0.4551 - val_accuracy: 0.7750\n",
            "Epoch 17/150\n",
            "7/7 [==============================] - 0s 10ms/step - loss: 0.3590 - accuracy: 0.8679 - val_loss: 0.4373 - val_accuracy: 0.8167\n",
            "Epoch 18/150\n",
            "7/7 [==============================] - 0s 14ms/step - loss: 0.3417 - accuracy: 0.8857 - val_loss: 0.4220 - val_accuracy: 0.8417\n",
            "Epoch 19/150\n",
            "7/7 [==============================] - 0s 13ms/step - loss: 0.3249 - accuracy: 0.9143 - val_loss: 0.4089 - val_accuracy: 0.8500\n",
            "Epoch 20/150\n",
            "7/7 [==============================] - 0s 13ms/step - loss: 0.3105 - accuracy: 0.9250 - val_loss: 0.3991 - val_accuracy: 0.8667\n",
            "Epoch 21/150\n",
            "7/7 [==============================] - 0s 18ms/step - loss: 0.2937 - accuracy: 0.9250 - val_loss: 0.3944 - val_accuracy: 0.8667\n",
            "Epoch 22/150\n",
            "7/7 [==============================] - 0s 13ms/step - loss: 0.2784 - accuracy: 0.9357 - val_loss: 0.3853 - val_accuracy: 0.8583\n",
            "Epoch 23/150\n",
            "7/7 [==============================] - 0s 13ms/step - loss: 0.2614 - accuracy: 0.9393 - val_loss: 0.3781 - val_accuracy: 0.8583\n",
            "Epoch 24/150\n",
            "7/7 [==============================] - 0s 13ms/step - loss: 0.2448 - accuracy: 0.9393 - val_loss: 0.3728 - val_accuracy: 0.8583\n",
            "Epoch 25/150\n",
            "7/7 [==============================] - 0s 14ms/step - loss: 0.2309 - accuracy: 0.9393 - val_loss: 0.3745 - val_accuracy: 0.8583\n",
            "Epoch 26/150\n",
            "7/7 [==============================] - 0s 23ms/step - loss: 0.2178 - accuracy: 0.9393 - val_loss: 0.3864 - val_accuracy: 0.8583\n",
            "Epoch 27/150\n",
            "7/7 [==============================] - 0s 17ms/step - loss: 0.2043 - accuracy: 0.9393 - val_loss: 0.3924 - val_accuracy: 0.8667\n",
            "Epoch 28/150\n",
            "7/7 [==============================] - 0s 12ms/step - loss: 0.1977 - accuracy: 0.9429 - val_loss: 0.4054 - val_accuracy: 0.8667\n",
            "Epoch 29/150\n",
            "7/7 [==============================] - 0s 12ms/step - loss: 0.1902 - accuracy: 0.9429 - val_loss: 0.4136 - val_accuracy: 0.8667\n",
            "Epoch 30/150\n",
            "7/7 [==============================] - 0s 13ms/step - loss: 0.1868 - accuracy: 0.9429 - val_loss: 0.4149 - val_accuracy: 0.8667\n",
            "Epoch 31/150\n",
            "7/7 [==============================] - 0s 14ms/step - loss: 0.1841 - accuracy: 0.9429 - val_loss: 0.4178 - val_accuracy: 0.8667\n",
            "Epoch 32/150\n",
            "7/7 [==============================] - 0s 13ms/step - loss: 0.1820 - accuracy: 0.9393 - val_loss: 0.4167 - val_accuracy: 0.8667\n",
            "Epoch 33/150\n",
            "7/7 [==============================] - 0s 13ms/step - loss: 0.1802 - accuracy: 0.9429 - val_loss: 0.4156 - val_accuracy: 0.8667\n",
            "Epoch 34/150\n",
            "7/7 [==============================] - 0s 19ms/step - loss: 0.1788 - accuracy: 0.9464 - val_loss: 0.4150 - val_accuracy: 0.8667\n",
            "Epoch 35/150\n",
            "7/7 [==============================] - 0s 15ms/step - loss: 0.1778 - accuracy: 0.9464 - val_loss: 0.4054 - val_accuracy: 0.8667\n",
            "Epoch 36/150\n",
            "7/7 [==============================] - 0s 14ms/step - loss: 0.1760 - accuracy: 0.9429 - val_loss: 0.4055 - val_accuracy: 0.8667\n",
            "Epoch 37/150\n",
            "7/7 [==============================] - 0s 27ms/step - loss: 0.1757 - accuracy: 0.9464 - val_loss: 0.4040 - val_accuracy: 0.8667\n",
            "Epoch 38/150\n",
            "7/7 [==============================] - 0s 13ms/step - loss: 0.1738 - accuracy: 0.9464 - val_loss: 0.4007 - val_accuracy: 0.8667\n",
            "Epoch 39/150\n",
            "7/7 [==============================] - 0s 14ms/step - loss: 0.1727 - accuracy: 0.9464 - val_loss: 0.4016 - val_accuracy: 0.8667\n",
            "Epoch 40/150\n",
            "7/7 [==============================] - 0s 16ms/step - loss: 0.1720 - accuracy: 0.9464 - val_loss: 0.4021 - val_accuracy: 0.8667\n",
            "Epoch 41/150\n",
            "7/7 [==============================] - 0s 19ms/step - loss: 0.1710 - accuracy: 0.9464 - val_loss: 0.3998 - val_accuracy: 0.8667\n",
            "Epoch 42/150\n",
            "7/7 [==============================] - 0s 14ms/step - loss: 0.1704 - accuracy: 0.9464 - val_loss: 0.3995 - val_accuracy: 0.8667\n",
            "Epoch 43/150\n",
            "7/7 [==============================] - 0s 16ms/step - loss: 0.1699 - accuracy: 0.9464 - val_loss: 0.4006 - val_accuracy: 0.8667\n",
            "Epoch 44/150\n",
            "7/7 [==============================] - 0s 15ms/step - loss: 0.1693 - accuracy: 0.9464 - val_loss: 0.3953 - val_accuracy: 0.8667\n",
            "Epoch 45/150\n",
            "7/7 [==============================] - 0s 13ms/step - loss: 0.1694 - accuracy: 0.9464 - val_loss: 0.3920 - val_accuracy: 0.8667\n",
            "Epoch 46/150\n",
            "7/7 [==============================] - 0s 29ms/step - loss: 0.1683 - accuracy: 0.9464 - val_loss: 0.3938 - val_accuracy: 0.8667\n",
            "Epoch 47/150\n",
            "7/7 [==============================] - 0s 23ms/step - loss: 0.1677 - accuracy: 0.9464 - val_loss: 0.3953 - val_accuracy: 0.8667\n",
            "Epoch 48/150\n",
            "7/7 [==============================] - 0s 13ms/step - loss: 0.1678 - accuracy: 0.9464 - val_loss: 0.3967 - val_accuracy: 0.8667\n",
            "Epoch 49/150\n",
            "7/7 [==============================] - 0s 14ms/step - loss: 0.1676 - accuracy: 0.9500 - val_loss: 0.3959 - val_accuracy: 0.8750\n",
            "Epoch 50/150\n",
            "7/7 [==============================] - 0s 14ms/step - loss: 0.1664 - accuracy: 0.9500 - val_loss: 0.3952 - val_accuracy: 0.8667\n",
            "Epoch 51/150\n",
            "7/7 [==============================] - 0s 20ms/step - loss: 0.1675 - accuracy: 0.9464 - val_loss: 0.3948 - val_accuracy: 0.8667\n",
            "Epoch 52/150\n",
            "7/7 [==============================] - 0s 18ms/step - loss: 0.1662 - accuracy: 0.9464 - val_loss: 0.3914 - val_accuracy: 0.8667\n",
            "Epoch 53/150\n",
            "7/7 [==============================] - 0s 19ms/step - loss: 0.1666 - accuracy: 0.9500 - val_loss: 0.3906 - val_accuracy: 0.8667\n",
            "Epoch 54/150\n",
            "7/7 [==============================] - 0s 20ms/step - loss: 0.1656 - accuracy: 0.9500 - val_loss: 0.3922 - val_accuracy: 0.8667\n",
            "Epoch 55/150\n",
            "7/7 [==============================] - 0s 17ms/step - loss: 0.1653 - accuracy: 0.9500 - val_loss: 0.3933 - val_accuracy: 0.8667\n",
            "Epoch 56/150\n",
            "7/7 [==============================] - 0s 13ms/step - loss: 0.1658 - accuracy: 0.9500 - val_loss: 0.3909 - val_accuracy: 0.8667\n",
            "Epoch 57/150\n",
            "7/7 [==============================] - 0s 14ms/step - loss: 0.1653 - accuracy: 0.9500 - val_loss: 0.3894 - val_accuracy: 0.8667\n",
            "Epoch 58/150\n",
            "7/7 [==============================] - 0s 13ms/step - loss: 0.1649 - accuracy: 0.9500 - val_loss: 0.3902 - val_accuracy: 0.8667\n",
            "Epoch 59/150\n",
            "7/7 [==============================] - 0s 9ms/step - loss: 0.1639 - accuracy: 0.9500 - val_loss: 0.3912 - val_accuracy: 0.8750\n",
            "Epoch 60/150\n",
            "7/7 [==============================] - 0s 35ms/step - loss: 0.1644 - accuracy: 0.9500 - val_loss: 0.3952 - val_accuracy: 0.8750\n",
            "Epoch 61/150\n",
            "7/7 [==============================] - 0s 10ms/step - loss: 0.1643 - accuracy: 0.9500 - val_loss: 0.3897 - val_accuracy: 0.8750\n",
            "Epoch 62/150\n",
            "7/7 [==============================] - 0s 28ms/step - loss: 0.1637 - accuracy: 0.9500 - val_loss: 0.3900 - val_accuracy: 0.8750\n",
            "Epoch 63/150\n",
            "7/7 [==============================] - 0s 19ms/step - loss: 0.1632 - accuracy: 0.9500 - val_loss: 0.3879 - val_accuracy: 0.8667\n",
            "Epoch 64/150\n",
            "7/7 [==============================] - 0s 10ms/step - loss: 0.1629 - accuracy: 0.9500 - val_loss: 0.3892 - val_accuracy: 0.8667\n",
            "Epoch 65/150\n",
            "7/7 [==============================] - 0s 19ms/step - loss: 0.1627 - accuracy: 0.9500 - val_loss: 0.3887 - val_accuracy: 0.8667\n",
            "Epoch 66/150\n",
            "7/7 [==============================] - 0s 25ms/step - loss: 0.1627 - accuracy: 0.9500 - val_loss: 0.3883 - val_accuracy: 0.8750\n",
            "Epoch 67/150\n",
            "7/7 [==============================] - 0s 21ms/step - loss: 0.1620 - accuracy: 0.9500 - val_loss: 0.3898 - val_accuracy: 0.8750\n",
            "Epoch 68/150\n",
            "7/7 [==============================] - 0s 22ms/step - loss: 0.1624 - accuracy: 0.9500 - val_loss: 0.3888 - val_accuracy: 0.8750\n",
            "Epoch 69/150\n",
            "7/7 [==============================] - 0s 13ms/step - loss: 0.1624 - accuracy: 0.9500 - val_loss: 0.3915 - val_accuracy: 0.8667\n",
            "Epoch 70/150\n",
            "7/7 [==============================] - 0s 13ms/step - loss: 0.1626 - accuracy: 0.9500 - val_loss: 0.3848 - val_accuracy: 0.8750\n",
            "Epoch 71/150\n",
            "7/7 [==============================] - 0s 17ms/step - loss: 0.1615 - accuracy: 0.9500 - val_loss: 0.3880 - val_accuracy: 0.8667\n",
            "Epoch 72/150\n",
            "7/7 [==============================] - 0s 10ms/step - loss: 0.1619 - accuracy: 0.9500 - val_loss: 0.3906 - val_accuracy: 0.8667\n",
            "Epoch 73/150\n",
            "7/7 [==============================] - 0s 13ms/step - loss: 0.1606 - accuracy: 0.9500 - val_loss: 0.3876 - val_accuracy: 0.8750\n",
            "Epoch 74/150\n",
            "7/7 [==============================] - 0s 16ms/step - loss: 0.1610 - accuracy: 0.9500 - val_loss: 0.3842 - val_accuracy: 0.8750\n",
            "Epoch 75/150\n",
            "7/7 [==============================] - 0s 21ms/step - loss: 0.1608 - accuracy: 0.9500 - val_loss: 0.3861 - val_accuracy: 0.8750\n",
            "Epoch 76/150\n",
            "7/7 [==============================] - 0s 20ms/step - loss: 0.1602 - accuracy: 0.9500 - val_loss: 0.3871 - val_accuracy: 0.8750\n",
            "Epoch 77/150\n",
            "7/7 [==============================] - 0s 15ms/step - loss: 0.1605 - accuracy: 0.9500 - val_loss: 0.3835 - val_accuracy: 0.8750\n",
            "Epoch 78/150\n",
            "7/7 [==============================] - 0s 21ms/step - loss: 0.1607 - accuracy: 0.9500 - val_loss: 0.3836 - val_accuracy: 0.8750\n",
            "Epoch 79/150\n",
            "7/7 [==============================] - 0s 13ms/step - loss: 0.1614 - accuracy: 0.9500 - val_loss: 0.3904 - val_accuracy: 0.8750\n",
            "Epoch 80/150\n",
            "7/7 [==============================] - 0s 15ms/step - loss: 0.1600 - accuracy: 0.9500 - val_loss: 0.3843 - val_accuracy: 0.8750\n",
            "Epoch 81/150\n",
            "7/7 [==============================] - 0s 19ms/step - loss: 0.1594 - accuracy: 0.9500 - val_loss: 0.3865 - val_accuracy: 0.8750\n",
            "Epoch 82/150\n",
            "7/7 [==============================] - 0s 16ms/step - loss: 0.1593 - accuracy: 0.9500 - val_loss: 0.3858 - val_accuracy: 0.8750\n",
            "Epoch 83/150\n",
            "7/7 [==============================] - 0s 22ms/step - loss: 0.1598 - accuracy: 0.9500 - val_loss: 0.3826 - val_accuracy: 0.8750\n",
            "Epoch 84/150\n",
            "7/7 [==============================] - 0s 18ms/step - loss: 0.1599 - accuracy: 0.9500 - val_loss: 0.3810 - val_accuracy: 0.8750\n",
            "Epoch 85/150\n",
            "7/7 [==============================] - 0s 15ms/step - loss: 0.1598 - accuracy: 0.9500 - val_loss: 0.3844 - val_accuracy: 0.8750\n",
            "Epoch 86/150\n",
            "7/7 [==============================] - 0s 15ms/step - loss: 0.1589 - accuracy: 0.9500 - val_loss: 0.3822 - val_accuracy: 0.8750\n",
            "Epoch 87/150\n",
            "7/7 [==============================] - 0s 14ms/step - loss: 0.1587 - accuracy: 0.9500 - val_loss: 0.3777 - val_accuracy: 0.8750\n",
            "Epoch 88/150\n",
            "7/7 [==============================] - 0s 14ms/step - loss: 0.1586 - accuracy: 0.9500 - val_loss: 0.3834 - val_accuracy: 0.8750\n",
            "Epoch 89/150\n",
            "7/7 [==============================] - 0s 13ms/step - loss: 0.1584 - accuracy: 0.9500 - val_loss: 0.3799 - val_accuracy: 0.8750\n",
            "Epoch 90/150\n",
            "7/7 [==============================] - 0s 13ms/step - loss: 0.1586 - accuracy: 0.9500 - val_loss: 0.3815 - val_accuracy: 0.8750\n",
            "Epoch 91/150\n",
            "7/7 [==============================] - 0s 18ms/step - loss: 0.1578 - accuracy: 0.9500 - val_loss: 0.3811 - val_accuracy: 0.8750\n",
            "Epoch 92/150\n",
            "7/7 [==============================] - 0s 22ms/step - loss: 0.1584 - accuracy: 0.9536 - val_loss: 0.3792 - val_accuracy: 0.8750\n",
            "Epoch 93/150\n",
            "7/7 [==============================] - 0s 23ms/step - loss: 0.1584 - accuracy: 0.9500 - val_loss: 0.3777 - val_accuracy: 0.8750\n",
            "Epoch 94/150\n",
            "7/7 [==============================] - 0s 16ms/step - loss: 0.1584 - accuracy: 0.9536 - val_loss: 0.3817 - val_accuracy: 0.8750\n",
            "Epoch 95/150\n",
            "7/7 [==============================] - 0s 15ms/step - loss: 0.1575 - accuracy: 0.9536 - val_loss: 0.3830 - val_accuracy: 0.8750\n",
            "Epoch 96/150\n",
            "7/7 [==============================] - 0s 14ms/step - loss: 0.1586 - accuracy: 0.9500 - val_loss: 0.3809 - val_accuracy: 0.8750\n",
            "Epoch 97/150\n",
            "7/7 [==============================] - 0s 14ms/step - loss: 0.1576 - accuracy: 0.9500 - val_loss: 0.3829 - val_accuracy: 0.8750\n",
            "Epoch 98/150\n",
            "7/7 [==============================] - 0s 18ms/step - loss: 0.1576 - accuracy: 0.9536 - val_loss: 0.3836 - val_accuracy: 0.8750\n",
            "Epoch 99/150\n",
            "7/7 [==============================] - 0s 19ms/step - loss: 0.1574 - accuracy: 0.9536 - val_loss: 0.3794 - val_accuracy: 0.8750\n",
            "Epoch 100/150\n",
            "7/7 [==============================] - 0s 15ms/step - loss: 0.1572 - accuracy: 0.9500 - val_loss: 0.3832 - val_accuracy: 0.8750\n",
            "Epoch 101/150\n",
            "7/7 [==============================] - 0s 15ms/step - loss: 0.1581 - accuracy: 0.9500 - val_loss: 0.3822 - val_accuracy: 0.8750\n",
            "Epoch 102/150\n",
            "7/7 [==============================] - 0s 24ms/step - loss: 0.1570 - accuracy: 0.9500 - val_loss: 0.3812 - val_accuracy: 0.8750\n",
            "Epoch 103/150\n",
            "7/7 [==============================] - 0s 12ms/step - loss: 0.1590 - accuracy: 0.9500 - val_loss: 0.3804 - val_accuracy: 0.8750\n",
            "Epoch 104/150\n",
            "7/7 [==============================] - 0s 26ms/step - loss: 0.1573 - accuracy: 0.9536 - val_loss: 0.3826 - val_accuracy: 0.8750\n",
            "Epoch 105/150\n",
            "7/7 [==============================] - 0s 25ms/step - loss: 0.1574 - accuracy: 0.9500 - val_loss: 0.3837 - val_accuracy: 0.8750\n",
            "Epoch 106/150\n",
            "7/7 [==============================] - 0s 15ms/step - loss: 0.1567 - accuracy: 0.9500 - val_loss: 0.3812 - val_accuracy: 0.8750\n",
            "Epoch 107/150\n",
            "7/7 [==============================] - 0s 12ms/step - loss: 0.1570 - accuracy: 0.9500 - val_loss: 0.3801 - val_accuracy: 0.8750\n",
            "Epoch 108/150\n",
            "7/7 [==============================] - 0s 14ms/step - loss: 0.1564 - accuracy: 0.9536 - val_loss: 0.3785 - val_accuracy: 0.8750\n",
            "Epoch 109/150\n",
            "7/7 [==============================] - 0s 26ms/step - loss: 0.1575 - accuracy: 0.9500 - val_loss: 0.3800 - val_accuracy: 0.8750\n",
            "Epoch 110/150\n",
            "7/7 [==============================] - 0s 15ms/step - loss: 0.1556 - accuracy: 0.9500 - val_loss: 0.3860 - val_accuracy: 0.8750\n",
            "Epoch 111/150\n",
            "7/7 [==============================] - 0s 19ms/step - loss: 0.1566 - accuracy: 0.9500 - val_loss: 0.3854 - val_accuracy: 0.8750\n",
            "Epoch 112/150\n",
            "7/7 [==============================] - 0s 20ms/step - loss: 0.1563 - accuracy: 0.9536 - val_loss: 0.3869 - val_accuracy: 0.8750\n",
            "Epoch 113/150\n",
            "7/7 [==============================] - 0s 16ms/step - loss: 0.1566 - accuracy: 0.9500 - val_loss: 0.3757 - val_accuracy: 0.8750\n",
            "Epoch 114/150\n",
            "7/7 [==============================] - 0s 12ms/step - loss: 0.1566 - accuracy: 0.9500 - val_loss: 0.3755 - val_accuracy: 0.8750\n",
            "Epoch 115/150\n",
            "7/7 [==============================] - 0s 16ms/step - loss: 0.1562 - accuracy: 0.9536 - val_loss: 0.3746 - val_accuracy: 0.8750\n",
            "Epoch 116/150\n",
            "7/7 [==============================] - 0s 15ms/step - loss: 0.1559 - accuracy: 0.9500 - val_loss: 0.3783 - val_accuracy: 0.8750\n",
            "Epoch 117/150\n",
            "7/7 [==============================] - 0s 18ms/step - loss: 0.1559 - accuracy: 0.9500 - val_loss: 0.3789 - val_accuracy: 0.8750\n",
            "Epoch 118/150\n",
            "7/7 [==============================] - 0s 15ms/step - loss: 0.1560 - accuracy: 0.9500 - val_loss: 0.3779 - val_accuracy: 0.8750\n",
            "Epoch 119/150\n",
            "7/7 [==============================] - 0s 19ms/step - loss: 0.1554 - accuracy: 0.9500 - val_loss: 0.3807 - val_accuracy: 0.8750\n",
            "Epoch 120/150\n",
            "7/7 [==============================] - 0s 13ms/step - loss: 0.1550 - accuracy: 0.9500 - val_loss: 0.3825 - val_accuracy: 0.8750\n",
            "Epoch 121/150\n",
            "7/7 [==============================] - 0s 18ms/step - loss: 0.1554 - accuracy: 0.9536 - val_loss: 0.3823 - val_accuracy: 0.8750\n",
            "Epoch 122/150\n",
            "7/7 [==============================] - 0s 13ms/step - loss: 0.1556 - accuracy: 0.9500 - val_loss: 0.3788 - val_accuracy: 0.8750\n",
            "Epoch 123/150\n",
            "7/7 [==============================] - 0s 12ms/step - loss: 0.1550 - accuracy: 0.9500 - val_loss: 0.3801 - val_accuracy: 0.8750\n",
            "Epoch 124/150\n",
            "7/7 [==============================] - 0s 13ms/step - loss: 0.1557 - accuracy: 0.9500 - val_loss: 0.3796 - val_accuracy: 0.8750\n",
            "Epoch 125/150\n",
            "7/7 [==============================] - 0s 11ms/step - loss: 0.1546 - accuracy: 0.9500 - val_loss: 0.3816 - val_accuracy: 0.8750\n",
            "Epoch 126/150\n",
            "7/7 [==============================] - 0s 14ms/step - loss: 0.1566 - accuracy: 0.9500 - val_loss: 0.3799 - val_accuracy: 0.8750\n",
            "Epoch 127/150\n",
            "7/7 [==============================] - 0s 14ms/step - loss: 0.1550 - accuracy: 0.9536 - val_loss: 0.3749 - val_accuracy: 0.8750\n",
            "Epoch 128/150\n",
            "7/7 [==============================] - 0s 16ms/step - loss: 0.1559 - accuracy: 0.9500 - val_loss: 0.3755 - val_accuracy: 0.8750\n",
            "Epoch 129/150\n",
            "7/7 [==============================] - 0s 14ms/step - loss: 0.1553 - accuracy: 0.9500 - val_loss: 0.3781 - val_accuracy: 0.8750\n",
            "Epoch 130/150\n",
            "7/7 [==============================] - 0s 13ms/step - loss: 0.1553 - accuracy: 0.9500 - val_loss: 0.3808 - val_accuracy: 0.8750\n",
            "Epoch 131/150\n",
            "7/7 [==============================] - 0s 13ms/step - loss: 0.1544 - accuracy: 0.9500 - val_loss: 0.3775 - val_accuracy: 0.8750\n",
            "Epoch 132/150\n",
            "7/7 [==============================] - 0s 28ms/step - loss: 0.1548 - accuracy: 0.9536 - val_loss: 0.3745 - val_accuracy: 0.8750\n",
            "Epoch 133/150\n",
            "7/7 [==============================] - 0s 30ms/step - loss: 0.1559 - accuracy: 0.9500 - val_loss: 0.3781 - val_accuracy: 0.8750\n",
            "Epoch 134/150\n",
            "7/7 [==============================] - 0s 28ms/step - loss: 0.1555 - accuracy: 0.9536 - val_loss: 0.3822 - val_accuracy: 0.8667\n",
            "Epoch 135/150\n",
            "7/7 [==============================] - 0s 30ms/step - loss: 0.1557 - accuracy: 0.9500 - val_loss: 0.3813 - val_accuracy: 0.8667\n",
            "Epoch 136/150\n",
            "7/7 [==============================] - 0s 25ms/step - loss: 0.1557 - accuracy: 0.9500 - val_loss: 0.3782 - val_accuracy: 0.8667\n",
            "Epoch 137/150\n",
            "7/7 [==============================] - 0s 32ms/step - loss: 0.1546 - accuracy: 0.9500 - val_loss: 0.3757 - val_accuracy: 0.8750\n",
            "Epoch 138/150\n",
            "7/7 [==============================] - 0s 13ms/step - loss: 0.1547 - accuracy: 0.9500 - val_loss: 0.3782 - val_accuracy: 0.8750\n",
            "Epoch 139/150\n",
            "7/7 [==============================] - 0s 12ms/step - loss: 0.1545 - accuracy: 0.9500 - val_loss: 0.3780 - val_accuracy: 0.8750\n",
            "Epoch 140/150\n",
            "7/7 [==============================] - 0s 21ms/step - loss: 0.1544 - accuracy: 0.9536 - val_loss: 0.3791 - val_accuracy: 0.8750\n",
            "Epoch 141/150\n",
            "7/7 [==============================] - 0s 19ms/step - loss: 0.1543 - accuracy: 0.9536 - val_loss: 0.3762 - val_accuracy: 0.8750\n",
            "Epoch 142/150\n",
            "7/7 [==============================] - 0s 16ms/step - loss: 0.1549 - accuracy: 0.9500 - val_loss: 0.3708 - val_accuracy: 0.8750\n",
            "Epoch 143/150\n",
            "7/7 [==============================] - 0s 18ms/step - loss: 0.1552 - accuracy: 0.9500 - val_loss: 0.3798 - val_accuracy: 0.8750\n",
            "Epoch 144/150\n",
            "7/7 [==============================] - 0s 20ms/step - loss: 0.1541 - accuracy: 0.9500 - val_loss: 0.3763 - val_accuracy: 0.8750\n",
            "Epoch 145/150\n",
            "7/7 [==============================] - 0s 24ms/step - loss: 0.1537 - accuracy: 0.9500 - val_loss: 0.3756 - val_accuracy: 0.8750\n",
            "Epoch 146/150\n",
            "7/7 [==============================] - 0s 14ms/step - loss: 0.1542 - accuracy: 0.9500 - val_loss: 0.3818 - val_accuracy: 0.8750\n",
            "Epoch 147/150\n",
            "7/7 [==============================] - 0s 20ms/step - loss: 0.1540 - accuracy: 0.9536 - val_loss: 0.3713 - val_accuracy: 0.8750\n",
            "Epoch 148/150\n",
            "7/7 [==============================] - 0s 14ms/step - loss: 0.1544 - accuracy: 0.9500 - val_loss: 0.3670 - val_accuracy: 0.8750\n",
            "Epoch 149/150\n",
            "7/7 [==============================] - 0s 13ms/step - loss: 0.1545 - accuracy: 0.9500 - val_loss: 0.3823 - val_accuracy: 0.8750\n",
            "Epoch 150/150\n",
            "7/7 [==============================] - 0s 12ms/step - loss: 0.1547 - accuracy: 0.9536 - val_loss: 0.3681 - val_accuracy: 0.8750\n"
          ]
        }
      ]
    },
    {
      "cell_type": "code",
      "source": [],
      "metadata": {
        "id": "YZhDY5uaGX5D"
      },
      "execution_count": 16,
      "outputs": []
    },
    {
      "cell_type": "code",
      "source": [
        "mod_hist.history.keys()"
      ],
      "metadata": {
        "colab": {
          "base_uri": "https://localhost:8080/"
        },
        "id": "PPd9G6xjDNwM",
        "outputId": "80e4fa95-6655-45db-c764-52bcf85ce86c"
      },
      "execution_count": 24,
      "outputs": [
        {
          "output_type": "execute_result",
          "data": {
            "text/plain": [
              "dict_keys(['loss', 'accuracy', 'val_loss', 'val_accuracy'])"
            ]
          },
          "metadata": {},
          "execution_count": 24
        }
      ]
    },
    {
      "cell_type": "code",
      "source": [
        "plt.plot(mod_hist.history['loss'], label = 'train_loss')\n",
        "plt.plot(mod_hist.history['val_loss'], label = 'test_loss')\n",
        "plt.legend()\n",
        "plt.show()"
      ],
      "metadata": {
        "colab": {
          "base_uri": "https://localhost:8080/",
          "height": 265
        },
        "id": "_F-rsT66DN3Q",
        "outputId": "1b89bf78-9118-413f-979b-02d6f6374678"
      },
      "execution_count": 25,
      "outputs": [
        {
          "output_type": "display_data",
          "data": {
            "text/plain": [
              "<Figure size 432x288 with 1 Axes>"
            ],
            "image/png": "[encoded data removed]"
          },
          "metadata": {
            "needs_background": "light"
          }
        }
      ]
    },
    {
      "cell_type": "code",
      "source": [
        "plt.plot(mod_hist.history['accuracy'], label = 'train_acc')\n",
        "plt.plot(mod_hist.history['val_accuracy'], label = 'test_acc')\n",
        "plt.legend()\n",
        "plt.show()"
      ],
      "metadata": {
        "colab": {
          "base_uri": "https://localhost:8080/",
          "height": 265
        },
        "id": "T3mD9ppBDN7r",
        "outputId": "6459c7f6-f02c-44d6-8243-64f46168782c"
      },
      "execution_count": 26,
      "outputs": [
        {
          "output_type": "display_data",
          "data": {
            "text/plain": [
              "<Figure size 432x288 with 1 Axes>"
            ],
            "image/png": "[encoded data removed]"
          },
          "metadata": {
            "needs_background": "light"
          }
        }
      ]
    },
    {
      "cell_type": "code",
      "source": [
        "pred_test = mod.predict(xtest)\n",
        "pred_test = (pred_test > 0.5)"
      ],
      "metadata": {
        "colab": {
          "base_uri": "https://localhost:8080/"
        },
        "id": "-mFLjzi_DOVr",
        "outputId": "3644de76-428b-4d86-968e-f0f0673f584e"
      },
      "execution_count": 27,
      "outputs": [
        {
          "output_type": "stream",
          "name": "stdout",
          "text": [
            "4/4 [==============================] - 0s 3ms/step\n"
          ]
        }
      ]
    },
    {
      "cell_type": "code",
      "source": [
        "from sklearn.metrics import classification_report"
      ],
      "metadata": {
        "id": "P8DwuHYMDOdy"
      },
      "execution_count": 28,
      "outputs": []
    },
    {
      "cell_type": "code",
      "source": [
        "print(classification_report(ytest , pred_test))"
      ],
      "metadata": {
        "colab": {
          "base_uri": "https://localhost:8080/"
        },
        "id": "zFMuECN4FVA2",
        "outputId": "2ee8e06e-5bd0-413e-b4a6-cf493cb317d7"
      },
      "execution_count": 29,
      "outputs": [
        {
          "output_type": "stream",
          "name": "stdout",
          "text": [
            "              precision    recall  f1-score   support\n",
            "\n",
            "           0       0.94      0.85      0.89        72\n",
            "           1       0.80      0.92      0.85        48\n",
            "\n",
            "    accuracy                           0.88       120\n",
            "   macro avg       0.87      0.88      0.87       120\n",
            "weighted avg       0.88      0.88      0.88       120\n",
            "\n"
          ]
        }
      ]
    },
    {
      "cell_type": "code",
      "source": [
        "from sklearn.metrics._plot.confusion_matrix import confusion_matrix\n",
        "confusion_matrix(ytest , pred_test)"
      ],
      "metadata": {
        "colab": {
          "base_uri": "https://localhost:8080/"
        },
        "id": "S3ozOwbaG8Fs",
        "outputId": "ef3da796-01fb-497e-e0f2-3849cfb0a4de"
      },
      "execution_count": 30,
      "outputs": [
        {
          "output_type": "execute_result",
          "data": {
            "text/plain": [
              "array([[61, 11],\n",
              "       [ 4, 44]])"
            ]
          },
          "metadata": {},
          "execution_count": 30
        }
      ]
    },
    {
      "cell_type": "code",
      "source": [],
      "metadata": {
        "id": "mzjRl0UUG8Mw"
      },
      "execution_count": 23,
      "outputs": []
    },
    {
      "cell_type": "code",
      "source": [],
      "metadata": {
        "id": "WVTUE9GNG8UJ"
      },
      "execution_count": 23,
      "outputs": []
    }
  ]
}